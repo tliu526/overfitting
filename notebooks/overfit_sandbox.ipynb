{
 "cells": [
  {
   "cell_type": "code",
   "execution_count": 1,
   "metadata": {},
   "outputs": [],
   "source": [
    "%matplotlib inline\n",
    "\n",
    "import pickle\n",
    "\n",
    "import pandas\n",
    "import matplotlib.pyplot as plt\n",
    "import seaborn as sns\n",
    "import numpy as np\n",
    "\n",
    "# Scikit imports\n",
    "from sklearn.datasets import make_classification, make_regression\n",
    "from sklearn.pipeline import Pipeline\n",
    "from sklearn.preprocessing import PolynomialFeatures\n",
    "from sklearn.linear_model import LinearRegression, LogisticRegression\n",
    "from sklearn.tree import DecisionTreeRegressor, DecisionTreeClassifier\n",
    "from sklearn.metrics import accuracy_score, mean_squared_error"
   ]
  },
  {
   "cell_type": "markdown",
   "metadata": {},
   "source": [
    "# Overfitting notebook\n",
    "\n",
    "Notebook for overfitting simulation and notes."
   ]
  },
  {
   "cell_type": "markdown",
   "metadata": {},
   "source": [
    "## Functions"
   ]
  },
  {
   "cell_type": "code",
   "execution_count": 53,
   "metadata": {},
   "outputs": [],
   "source": [
    "def generate_class_data(n_train, n_test, **kwargs):\n",
    "    \"\"\"Creates synthetic dataset for classification.\n",
    "    \n",
    "    Mainly a wrapper for sklearn.datasets.make_classification.\n",
    "    \n",
    "    Args:\n",
    "        n_train (int): number of training samples\n",
    "        n_test (int): number of testing samples\n",
    "    \n",
    "    Returns:\n",
    "        (np.ndarray, np.ndarray, np.ndarray, np.ndarray): train_X, train_y, test_X, test_y\n",
    "    \n",
    "    \"\"\"\n",
    "    \n",
    "    n_samples = n_train + n_test\n",
    "    \n",
    "    X, y = make_classification(n_samples = n_samples, **kwargs)\n",
    "    \n",
    "    train_X = X[:n_train, :]\n",
    "    train_y= y[:n_train]\n",
    "\n",
    "    test_X = X[n_train:, :]\n",
    "    test_y = y[n_train:]\n",
    "    \n",
    "    return train_X, train_y, test_X, test_y\n",
    "\n",
    "\n",
    "def generate_reg_data(n_train, n_test, **kwargs):\n",
    "    \"\"\"Creates a synthetic dataset for regression.\n",
    "    \n",
    "    Mainly a wrapper for sklearn.datasets.make_regression.\n",
    "    \n",
    "    Args:\n",
    "        n_train (int): number of training samples\n",
    "        n_test (int): number of testing samples\n",
    "    \n",
    "    Returns:\n",
    "        (np.ndarray, np.ndarray, np.ndarray, np.ndarray): train_X, train_y, test_X, test_y\n",
    "    \"\"\"\n",
    "\n",
    "    n_samples = n_train + n_test\n",
    "    reg_X, reg_y = make_regression(n_samples=n_samples, **kwargs)\n",
    "\n",
    "    reg_train_X = reg_X[:n_train, :]\n",
    "    reg_train_y= reg_y[:n_train]\n",
    "\n",
    "    reg_test_X = reg_X[n_train:, :]\n",
    "    reg_test_y = reg_y[n_train:]\n",
    "\n",
    "    return reg_train_X, reg_train_y, reg_test_X, reg_test_y\n",
    "    \n",
    "    \n",
    "def generate_noise_class_data(n_train, n_test, n_features, p=0.5, random_state=0):\n",
    "    \"\"\"Generates a random classification data set.\n",
    "    \n",
    "    Features are drawn from a multivariate normal with 0 mean and unit variance.\n",
    "    \n",
    "    Labels are drawn from a Bernoulli distribution with P(yes) = p.\n",
    "    \n",
    "    Args:\n",
    "        n_train (int): number of training samples\n",
    "        n_test (int): number of testing samples\n",
    "        n_features (int): number of features \n",
    "        p: Bernoulli parameter\n",
    "        random_state (int): random state for reproducibility\n",
    "        \n",
    "    Returns:\n",
    "        (np.ndarray, np.ndarray, np.ndarray, np.ndarray): train_X, train_y, test_X, test_y\n",
    "    \"\"\"\n",
    "    \n",
    "    np.random.seed(random_state)\n",
    "    train_X = np.random.multivariate_normal(np.zeros((n_features)), \n",
    "                                      cov=np.eye(n_features),\n",
    "                                      size=n_train)\n",
    "    \n",
    "    train_y = np.random.rand(n_train) < p\n",
    "    \n",
    "    test_X =  np.random.multivariate_normal(np.zeros((n_features)), \n",
    "                                      cov=np.eye(n_features),\n",
    "                                      size=n_test)\n",
    "    test_y = np.random.rand(n_test) < p\n",
    "    \n",
    "    return train_X, train_y, test_X, test_y\n",
    "\n",
    "\n",
    "def generate_noise_reg_data(n_train, n_test, n_features, mu=1, random_state=0):\n",
    "    \"\"\"Generates a random regression data set.\n",
    "    \n",
    "    Features are drawn from a multivariate normal with 0 mean and unit variance.\n",
    "    \n",
    "    Labels are drawn from a normal distribution with mean mu and unit variance\n",
    "    \n",
    "    Args:\n",
    "        n_train (int): number of training samples\n",
    "        n_test (int): number of testing samples\n",
    "        n_features (int): number of features \n",
    "        mu: mean of the response label\n",
    "        random_state (int): random state for reproducibility\n",
    "        \n",
    "    Returns:\n",
    "        (np.ndarray, np.ndarray, np.ndarray, np.ndarray): train_X, train_y, test_X, test_y\n",
    "    \"\"\"\n",
    "    \n",
    "    np.random.seed(random_state)\n",
    "    train_X = np.random.multivariate_normal(np.zeros((n_features)), \n",
    "                                      cov=np.eye(n_features),\n",
    "                                      size=n_train)\n",
    "    \n",
    "    train_y = np.random.normal(loc=mu, scale=1, size=n_train)\n",
    "    \n",
    "    test_X =  np.random.multivariate_normal(np.zeros((n_features)), \n",
    "                                      cov=np.eye(n_features),\n",
    "                                      size=n_test)\n",
    "    test_y = np.random.normal(loc=mu, scale=1, size=n_test)\n",
    "    \n",
    "    return train_X, train_y, test_X, test_y\n",
    "\n",
    "\n",
    "\n",
    "def simulate_no_label_X(pipelines, n_feats, n_trials, n_samples, classification=True):\n",
    "    \"\"\"Runs an n_trials simulation the given pipeline models on unlabeled, randomly drawn X.\n",
    "    \n",
    "    Features are sampled from a multivariate Gaussian with random [0,1] means and unit variance.\n",
    "    \n",
    "    Args:\n",
    "        pipelines (list): list of sklearn.pipeline.Pipelines with trained models\n",
    "        n_feats (int): the number of features for the Xs\n",
    "        n_trials (int): number of trials to run.\n",
    "        n_samples (int): number of samples to draw per run.\n",
    "        classification (bool): whether to evaluate with classification or regression metrics.\n",
    "        \n",
    "    Returns:\n",
    "        (list, list): list of mean probabilities predicting label 1, list of corresponding std dev\n",
    "    \"\"\"\n",
    "    # n_trials by n_models\n",
    "    #stds = np.zeros((n_trials, len(pipelines)))\n",
    "    pred_probs = np.zeros((n_trials, len(pipelines)))\n",
    "    \n",
    "    for trial in range(n_trials):\n",
    "        no_label_X = np.random.multivariate_normal(np.random.rand((n_feats)), \n",
    "                                           cov=np.eye(n_feats),\n",
    "                                           size=n_samples)\n",
    "        \n",
    "        for pipe_idx, pipe in enumerate(pipelines):\n",
    "            pred_prob = np.mean(pipe.predict_proba(no_label_X)[:, 1])\n",
    "            pred_probs[trial, pipe_idx] = pred_prob\n",
    "        \n",
    "        print(\"trial {} complete\".format(trial))\n",
    "    mean_probs = np.mean(pred_probs, axis=0)\n",
    "    std_probs = np.std(pred_probs, axis=0)\n",
    "    assert len(pipelines) == len(mean_probs)\n",
    "    assert len(pipelines) == len(std_probs)\n",
    "    \n",
    "    return pred_probs, mean_probs, std_probs\n",
    "\n",
    "\n"
   ]
  },
  {
   "cell_type": "markdown",
   "metadata": {
    "heading_collapsed": true
   },
   "source": [
    "## Classification"
   ]
  },
  {
   "cell_type": "markdown",
   "metadata": {
    "heading_collapsed": true,
    "hidden": true
   },
   "source": [
    "### `make_classification`\n",
    "\n",
    "- clusters of points normally distributed with $\\sigma=1$ about vertices of an `n_informative`-dimensional hypercube with sides of length 2*`class_sep`"
   ]
  },
  {
   "cell_type": "markdown",
   "metadata": {
    "hidden": true
   },
   "source": [
    "### Sandbox"
   ]
  },
  {
   "cell_type": "markdown",
   "metadata": {
    "hidden": true
   },
   "source": [
    "#### Polynomial Logistic Regression"
   ]
  },
  {
   "cell_type": "code",
   "execution_count": 91,
   "metadata": {
    "hidden": true
   },
   "outputs": [],
   "source": [
    "# features\n",
    "n_informative = 4\n",
    "n_redundant = 0\n",
    "n_total_feats = 20\n",
    "\n",
    "# samples\n",
    "n_train = 1000\n",
    "n_test = 500\n",
    "\n",
    "# class parameters\n",
    "n_classes = 2\n",
    "weights = None#[.2, .8] # defaults to 50/50 split\n",
    "\n",
    "# output params\n",
    "shuffle = True\n",
    "random_state = 0\n",
    "class_sep = 1\n",
    "n_clusters_per_class = 4\n",
    "\n",
    "X, y = make_classification(\n",
    "                            n_samples = n_train + n_test,\n",
    "                            n_features = n_total_feats,\n",
    "                            n_informative = n_informative,\n",
    "                            n_redundant = n_redundant,\n",
    "                            n_classes = n_classes,\n",
    "                            weights = weights,\n",
    "                            shuffle = shuffle,\n",
    "                            random_state = random_state,\n",
    "                            class_sep = class_sep)\n",
    "\n",
    "end_idx_0 = n_train // 2\n",
    "start_idx_1 = (n_train // 2) + (n_test // 2)\n",
    "end_idx_1 = n_train + (n_test // 2)\n",
    "train_data = np.append(X[:end_idx_0, :], X[start_idx_1:end_idx_1, :], 0)\n",
    "train_data = np.c_[train_data, np.append(y[:end_idx_0], y[start_idx_1:end_idx_1])]\n",
    "\n",
    "test_data = np.append(X[end_idx_0:start_idx_1, :], X[end_idx_1:, :], 0)\n",
    "test_data = np.c_[test_data, np.append(y[end_idx_0:start_idx_1], y[end_idx_1:])]\n",
    "\n",
    "train_X = train_data[:, :-1]\n",
    "train_y = train_data[:, -1]\n",
    "\n",
    "test_X = test_data[:, :-1]\n",
    "test_y = test_data[:, -1]"
   ]
  },
  {
   "cell_type": "code",
   "execution_count": 92,
   "metadata": {
    "hidden": true
   },
   "outputs": [
    {
     "name": "stdout",
     "output_type": "stream",
     "text": [
      "500.0\n",
      "249.0\n"
     ]
    }
   ],
   "source": [
    "print(sum(train_y))\n",
    "print(sum(test_y))"
   ]
  },
  {
   "cell_type": "code",
   "execution_count": 93,
   "metadata": {
    "hidden": true
   },
   "outputs": [
    {
     "name": "stdout",
     "output_type": "stream",
     "text": [
      "1\n",
      "2\n",
      "3\n",
      "4\n",
      "5\n",
      "6\n",
      "7\n",
      "8\n",
      "[0.716, 0.724, 0.71, 0.64, 0.656, 0.636, 0.618, 0.606]\n"
     ]
    }
   ],
   "source": [
    "degrees = np.arange(1,9)\n",
    "\n",
    "\n",
    "train_acc = []\n",
    "test_proba = []\n",
    "test_acc = []\n",
    "pipelines = []\n",
    "for deg in degrees:\n",
    "    poly_features = PolynomialFeatures(degree=deg, \n",
    "                                       include_bias=False,\n",
    "                                       interaction_only=True)\n",
    "    lr_model = LogisticRegression(solver='lbfgs', \n",
    "                                  penalty='none', \n",
    "                                  #C=1000,\n",
    "                                  random_state=random_state,\n",
    "                                  n_jobs=-1)\n",
    "    lr_pipeline = Pipeline([(\"polynomial_features\", poly_features),\n",
    "                           (\"logistic_regression\", lr_model)])\n",
    "    \n",
    "    lr_pipeline.fit(train_X.copy(), train_y.copy())\n",
    "    \n",
    "    pipelines.append(lr_pipeline)\n",
    "    \n",
    "    train_acc.append(accuracy_score(train_y, lr_pipeline.predict(train_X)))\n",
    "    test_proba.append(np.mean(lr_pipeline.predict_proba(test_X)[:, 0]))\n",
    "    test_acc.append(accuracy_score(test_y, lr_pipeline.predict(test_X)))\n",
    "    print(deg)\n",
    "    \n",
    "print(test_acc)"
   ]
  },
  {
   "cell_type": "code",
   "execution_count": 94,
   "metadata": {
    "hidden": true,
    "scrolled": true
   },
   "outputs": [
    {
     "data": {
      "text/plain": [
       "[0.715, 0.914, 1.0, 1.0, 1.0, 1.0, 1.0, 1.0]"
      ]
     },
     "execution_count": 94,
     "metadata": {},
     "output_type": "execute_result"
    }
   ],
   "source": [
    "train_acc"
   ]
  },
  {
   "cell_type": "code",
   "execution_count": 95,
   "metadata": {
    "hidden": true,
    "scrolled": true
   },
   "outputs": [
    {
     "data": {
      "text/plain": [
       "[0.4849283679191724,\n",
       " 0.49541346849970264,\n",
       " 0.5062807938941694,\n",
       " 0.47583783890711684,\n",
       " 0.49466349222582257,\n",
       " 0.48819288803171335,\n",
       " 0.48603476663320055,\n",
       " 0.48256425418118604]"
      ]
     },
     "execution_count": 95,
     "metadata": {},
     "output_type": "execute_result"
    }
   ],
   "source": [
    "test_proba"
   ]
  },
  {
   "cell_type": "code",
   "execution_count": 96,
   "metadata": {
    "hidden": true
   },
   "outputs": [
    {
     "data": {
      "text/plain": [
       "4.909210327846378"
      ]
     },
     "execution_count": 96,
     "metadata": {},
     "output_type": "execute_result"
    }
   ],
   "source": [
    "np.max(train_X)"
   ]
  },
  {
   "cell_type": "code",
   "execution_count": 97,
   "metadata": {
    "hidden": true
   },
   "outputs": [],
   "source": [
    "no_label_X = np.random.multivariate_normal(np.random.rand((n_total_feats)), \n",
    "                                   cov=np.eye(n_total_feats),\n",
    "                                   size=n_test)"
   ]
  },
  {
   "cell_type": "code",
   "execution_count": 98,
   "metadata": {
    "hidden": true
   },
   "outputs": [],
   "source": [
    "test_proba = []\n",
    "test_pred = []\n",
    "for pipe_idx, pipe in enumerate(pipelines):\n",
    "    pred_prob = pipe.predict_proba(no_label_X)\n",
    "    #print(pred_prob.shape)\n",
    "    #print(pred_prob[:5,:])\n",
    "    test_proba.append(np.mean(pred_prob[:, 1]))\n",
    "    test_pred.append(np.sum(pipe.predict(no_label_X)))"
   ]
  },
  {
   "cell_type": "code",
   "execution_count": 99,
   "metadata": {
    "hidden": true
   },
   "outputs": [
    {
     "data": {
      "text/plain": [
       "[0.7645429064670288,\n",
       " 0.6172751203051686,\n",
       " 0.5292817102255765,\n",
       " 0.48139547610391137,\n",
       " 0.46417871226913066,\n",
       " 0.46438994302869885,\n",
       " 0.4527785993475524,\n",
       " 0.47026772159779057]"
      ]
     },
     "execution_count": 99,
     "metadata": {},
     "output_type": "execute_result"
    }
   ],
   "source": [
    "test_proba"
   ]
  },
  {
   "cell_type": "code",
   "execution_count": 100,
   "metadata": {
    "hidden": true
   },
   "outputs": [
    {
     "data": {
      "text/plain": [
       "[468.0, 314.0, 265.0, 241.0, 232.0, 229.0, 223.0, 229.0]"
      ]
     },
     "execution_count": 100,
     "metadata": {},
     "output_type": "execute_result"
    }
   ],
   "source": [
    "test_pred"
   ]
  },
  {
   "cell_type": "code",
   "execution_count": 101,
   "metadata": {
    "hidden": true
   },
   "outputs": [
    {
     "name": "stdout",
     "output_type": "stream",
     "text": [
      "20\n",
      "210\n",
      "1350\n",
      "6195\n",
      "21699\n",
      "60459\n",
      "137979\n",
      "263949\n"
     ]
    }
   ],
   "source": [
    "for pipe in pipelines:\n",
    "    print(pipe['polynomial_features'].n_output_features_)"
   ]
  },
  {
   "cell_type": "markdown",
   "metadata": {
    "heading_collapsed": true,
    "hidden": true
   },
   "source": [
    "#### Decision Tree"
   ]
  },
  {
   "cell_type": "code",
   "execution_count": 285,
   "metadata": {
    "hidden": true
   },
   "outputs": [],
   "source": [
    "# features\n",
    "n_informative = 10\n",
    "n_redundant = 0\n",
    "n_total_feats = 1000\n",
    "\n",
    "# samples\n",
    "n_train = 1000\n",
    "n_test = 500\n",
    "\n",
    "# class parameters\n",
    "n_classes = 2\n",
    "weights = None#[.2, .8] # defaults to 50/50 split\n",
    "\n",
    "# output params\n",
    "shuffle = True\n",
    "random_state = 0\n",
    "class_sep = 1\n",
    "n_clusters_per_class = 1\n",
    "\n",
    "X, y = make_classification(\n",
    "                            n_samples = n_train + n_test,\n",
    "                            n_features = n_total_feats,\n",
    "                            n_informative = n_informative,\n",
    "                            n_redundant = n_redundant,\n",
    "                            n_classes = n_classes,\n",
    "                            weights = weights,\n",
    "                            shuffle = shuffle,\n",
    "                            random_state = random_state,\n",
    "                            class_sep = class_sep)\n",
    "\n",
    "end_idx_0 = n_train // 2\n",
    "start_idx_1 = (n_train // 2) + (n_test // 2)\n",
    "end_idx_1 = n_train + (n_test // 2)\n",
    "train_data = np.append(X[:end_idx_0, :], X[start_idx_1:end_idx_1, :], 0)\n",
    "train_data = np.c_[train_data, np.append(y[:end_idx_0], y[start_idx_1:end_idx_1])]\n",
    "\n",
    "test_data = np.append(X[end_idx_0:start_idx_1, :], X[end_idx_1:, :], 0)\n",
    "test_data = np.c_[test_data, np.append(y[end_idx_0:start_idx_1], y[end_idx_1:])]\n",
    "\n",
    "class_train_X = train_data[:, :-1]\n",
    "class_train_y = train_data[:, -1]\n",
    "\n",
    "class_test_X = test_data[:, :-1]\n",
    "class_test_y = test_data[:, -1]"
   ]
  },
  {
   "cell_type": "code",
   "execution_count": 286,
   "metadata": {
    "hidden": true
   },
   "outputs": [
    {
     "name": "stdout",
     "output_type": "stream",
     "text": [
      "[0.598, 0.684, 0.692, 0.724, 0.722, 0.72, 0.698, 0.702, 0.716, 0.678, 0.712, 0.69, 0.684, 0.696, 0.682, 0.694, 0.692, 0.654, 0.696, 0.684]\n"
     ]
    }
   ],
   "source": [
    "depths = [x for x in range(1,20)] + [None]\n",
    "class_trees = []\n",
    "class_train_acc = []\n",
    "class_test_acc = []\n",
    "\n",
    "for depth in depths:\n",
    "    class_tree = DecisionTreeClassifier(max_depth=depth)\n",
    "    class_tree.fit(class_train_X.copy(), class_train_y.copy())\n",
    "    class_trees.append(class_tree)\n",
    "    \n",
    "    class_train_acc.append(accuracy_score(class_train_y, class_tree.predict(class_train_X)))\n",
    "    #class_test_proba.append(np.mean(class_tree.predict_proba(class_test_X)[:, 0]))\n",
    "    class_test_acc.append(accuracy_score(class_test_y, class_tree.predict(class_test_X)))\n",
    "    \n",
    "print(class_test_acc)"
   ]
  },
  {
   "cell_type": "code",
   "execution_count": 287,
   "metadata": {
    "hidden": true
   },
   "outputs": [
    {
     "data": {
      "text/plain": [
       "[0.643,\n",
       " 0.738,\n",
       " 0.771,\n",
       " 0.833,\n",
       " 0.884,\n",
       " 0.924,\n",
       " 0.952,\n",
       " 0.974,\n",
       " 0.981,\n",
       " 0.991,\n",
       " 0.994,\n",
       " 0.997,\n",
       " 0.998,\n",
       " 0.999,\n",
       " 1.0,\n",
       " 1.0,\n",
       " 1.0,\n",
       " 1.0,\n",
       " 1.0,\n",
       " 1.0]"
      ]
     },
     "execution_count": 287,
     "metadata": {},
     "output_type": "execute_result"
    }
   ],
   "source": [
    "class_train_acc"
   ]
  },
  {
   "cell_type": "markdown",
   "metadata": {
    "heading_collapsed": true,
    "hidden": true
   },
   "source": [
    "### Notes"
   ]
  },
  {
   "cell_type": "markdown",
   "metadata": {
    "hidden": true
   },
   "source": [
    "- generate data from two separate distributions\n",
    "- plots as $p$ increases\n",
    "- train on 50/50 split\n",
    "- plots of underfit, \"fit,\" and overfit predictions as the distribution of out-of-sample data goes from 0 to 1 in terms of labels\n",
    "- use `make_classification`\n",
    "- use pipeline of polynomial features\n",
    "- TODO do the out-of-sample people come from a different data distribution?"
   ]
  },
  {
   "cell_type": "markdown",
   "metadata": {
    "hidden": true
   },
   "source": [
    "### Functions"
   ]
  },
  {
   "cell_type": "code",
   "execution_count": 48,
   "metadata": {
    "hidden": true
   },
   "outputs": [],
   "source": []
  },
  {
   "cell_type": "code",
   "execution_count": 102,
   "metadata": {
    "collapsed": true,
    "hidden": true
   },
   "outputs": [
    {
     "name": "stdout",
     "output_type": "stream",
     "text": [
      "trial 0 complete\n",
      "trial 1 complete\n",
      "trial 2 complete\n",
      "trial 3 complete\n",
      "trial 4 complete\n",
      "trial 5 complete\n",
      "trial 6 complete\n",
      "trial 7 complete\n",
      "trial 8 complete\n",
      "trial 9 complete\n",
      "trial 10 complete\n",
      "trial 11 complete\n",
      "trial 12 complete\n",
      "trial 13 complete\n",
      "trial 14 complete\n",
      "trial 15 complete\n",
      "trial 16 complete\n",
      "trial 17 complete\n",
      "trial 18 complete\n",
      "trial 19 complete\n",
      "trial 20 complete\n",
      "trial 21 complete\n",
      "trial 22 complete\n",
      "trial 23 complete\n",
      "trial 24 complete\n",
      "trial 25 complete\n",
      "trial 26 complete\n",
      "trial 27 complete\n",
      "trial 28 complete\n",
      "trial 29 complete\n",
      "trial 30 complete\n",
      "trial 31 complete\n",
      "trial 32 complete\n",
      "trial 33 complete\n",
      "trial 34 complete\n",
      "trial 35 complete\n",
      "trial 36 complete\n",
      "trial 37 complete\n",
      "trial 38 complete\n",
      "trial 39 complete\n",
      "trial 40 complete\n",
      "trial 41 complete\n",
      "trial 42 complete\n",
      "trial 43 complete\n",
      "trial 44 complete\n",
      "trial 45 complete\n",
      "trial 46 complete\n",
      "trial 47 complete\n",
      "trial 48 complete\n",
      "trial 49 complete\n"
     ]
    }
   ],
   "source": [
    "n_trials = 50\n",
    "n_samples = 500\n",
    "pred_probs, mean_p, std_p = simulate_no_label_X(pipelines, \n",
    "                                                n_total_feats, \n",
    "                                                n_trials, \n",
    "                                                n_samples)"
   ]
  },
  {
   "cell_type": "markdown",
   "metadata": {
    "hidden": true
   },
   "source": [
    "### Plots"
   ]
  },
  {
   "cell_type": "code",
   "execution_count": 105,
   "metadata": {
    "hidden": true,
    "scrolled": true
   },
   "outputs": [
    {
     "data": {
      "image/png": "[encoded data removed]",
      "text/plain": [
       "<Figure size 432x288 with 1 Axes>"
      ]
     },
     "metadata": {
      "needs_background": "light"
     },
     "output_type": "display_data"
    }
   ],
   "source": [
    "x = np.arange(1,9)\n",
    "\n",
    "#sns.pointplot(x, mean_p)\n",
    "plt.errorbar(x, mean_p, yerr=std_p, #/ np.sqrt(n_trials), \n",
    "             capsize=2, label=\"mean unlabelled prob (SD)\")\n",
    "plt.plot(x, train_acc, label=\"training accuracy\")\n",
    "plt.plot(x, test_acc, label=\"test accuracy\")\n",
    "plt.ylabel(\"prob\")\n",
    "plt.xlabel(\"polynomial feature degree\")\n",
    "plt.axhline(y=0.5, ls='--', color='grey')\n",
    "plt.legend(loc='upper right')\n",
    "plt.title(\"Unlabelled Overfitting Classification\")\n",
    "#plt.savefig(\"../figures/overfit_classification_1000.png\", dpi=300)"
   ]
  },
  {
   "cell_type": "markdown",
   "metadata": {
    "hidden": true
   },
   "source": [
    "- 4 informative features, 20 total\n",
    "- $n=1000$ training set size (50/50 split)\n",
    "- $n=500$ test set size"
   ]
  },
  {
   "cell_type": "markdown",
   "metadata": {
    "heading_collapsed": true
   },
   "source": [
    "## Regression"
   ]
  },
  {
   "cell_type": "markdown",
   "metadata": {
    "hidden": true
   },
   "source": [
    "### Sandbox"
   ]
  },
  {
   "cell_type": "markdown",
   "metadata": {
    "heading_collapsed": true,
    "hidden": true
   },
   "source": [
    "#### Decision Tree"
   ]
  },
  {
   "cell_type": "code",
   "execution_count": 354,
   "metadata": {
    "hidden": true
   },
   "outputs": [],
   "source": [
    "random_state = 2\n",
    "effective_rank = 20\n",
    "n_informative = 100\n",
    "n_features = 1000\n",
    "n_train = 100\n",
    "n_test = 500\n",
    "tail_strength = 0.5\n",
    "n_samples = n_train + n_test\n",
    "noise = 0\n",
    "reg_X, reg_y = make_regression(n_samples=n_samples,\n",
    "                               n_features=n_features,\n",
    "                               n_informative=n_informative,\n",
    "                               effective_rank=effective_rank,\n",
    "                               tail_strength=tail_strength,\n",
    "                               noise=noise,\n",
    "                               random_state=random_state)\n",
    "\n",
    "reg_train_X = reg_X[:n_train, :]\n",
    "reg_train_y= reg_y[:n_train]\n",
    "\n",
    "reg_test_X = reg_X[n_train:, :]\n",
    "reg_test_y = reg_y[n_train:]"
   ]
  },
  {
   "cell_type": "code",
   "execution_count": 355,
   "metadata": {
    "hidden": true
   },
   "outputs": [
    {
     "name": "stdout",
     "output_type": "stream",
     "text": [
      "[21.11094864635704, 22.966908354189123, 26.52979591576371, 26.54713604681531, 28.16707979670335, 30.107564065001544, 30.915650205034083, 31.852926789370684, 30.81455752305023, 30.19268390508701, 31.577784351217094, 29.758263888178053, 36.17631855698449, 32.12861953055407, 34.93895006067893, 30.641698904474552, 30.28661764372878, 31.147869486970453, 33.52100923554806, 32.0946558619357]\n"
     ]
    }
   ],
   "source": [
    "depths = [x for x in range(1,20)] + [None]\n",
    "reg_trees = []\n",
    "reg_train_mse = []\n",
    "reg_test_mse = []\n",
    "\n",
    "for depth in depths:\n",
    "    reg_tree = DecisionTreeRegressor(max_depth=depth)\n",
    "    reg_tree.fit(reg_train_X.copy(), reg_train_y.copy())\n",
    "    reg_trees.append(reg_tree)\n",
    "    \n",
    "    reg_train_mse.append(mean_squared_error(reg_train_y, reg_tree.predict(reg_train_X)))\n",
    "    #reg_test_proba.append(np.mean(reg_tree.predict_proba(reg_test_X)[:, 0]))\n",
    "    reg_test_mse.append(mean_squared_error(reg_test_y, reg_tree.predict(reg_test_X)))\n",
    "    \n",
    "print(reg_test_mse)"
   ]
  },
  {
   "cell_type": "code",
   "execution_count": 356,
   "metadata": {
    "hidden": true
   },
   "outputs": [
    {
     "data": {
      "text/plain": [
       "[16.71679222608997,\n",
       " 12.614358786361755,\n",
       " 8.22855580288373,\n",
       " 4.7765937515229675,\n",
       " 2.2624283049318468,\n",
       " 0.8796912532669807,\n",
       " 0.25030321726066285,\n",
       " 0.05588195834413568,\n",
       " 0.00614316180960854,\n",
       " 0.0006853136448682055,\n",
       " 1.5275787118480288e-06,\n",
       " 0.0,\n",
       " 0.0,\n",
       " 0.0,\n",
       " 0.0,\n",
       " 0.0,\n",
       " 0.0,\n",
       " 0.0,\n",
       " 0.0,\n",
       " 0.0]"
      ]
     },
     "execution_count": 356,
     "metadata": {},
     "output_type": "execute_result"
    }
   ],
   "source": [
    "reg_train_mse"
   ]
  },
  {
   "cell_type": "code",
   "execution_count": 357,
   "metadata": {
    "hidden": true
   },
   "outputs": [],
   "source": [
    "no_label_X = np.random.multivariate_normal(np.random.rand((n_features)), \n",
    "                                   cov=np.eye(n_features),\n",
    "                                   size=n_test)"
   ]
  },
  {
   "cell_type": "code",
   "execution_count": 358,
   "metadata": {
    "hidden": true
   },
   "outputs": [],
   "source": [
    "reg_no_label_std = []\n",
    "reg_no_label_mean = []\n",
    "for tree_idx, tree in enumerate(reg_trees):\n",
    "    predictions = tree.predict(no_label_X)\n",
    "    reg_no_label_mean.append(np.mean(predictions))\n",
    "    reg_no_label_std.append(np.std(predictions))"
   ]
  },
  {
   "cell_type": "code",
   "execution_count": 360,
   "metadata": {
    "hidden": true
   },
   "outputs": [
    {
     "data": {
      "text/plain": [
       "[1.9509496781845381,\n",
       " 3.1337077007340626,\n",
       " 5.734477688862062,\n",
       " 6.2755579078981345,\n",
       " 6.023955955721974,\n",
       " 7.215375499376987,\n",
       " 5.100761892740427,\n",
       " 6.802205612973915,\n",
       " 5.091478660992177,\n",
       " 5.656430698781644,\n",
       " 5.983778308492219,\n",
       " 5.112086918771842,\n",
       " 6.788058434189682,\n",
       " 6.523363808121618,\n",
       " 5.861638468312976,\n",
       " 5.5743684148997685,\n",
       " 6.872277900693816,\n",
       " 6.311726116168101,\n",
       " 6.3245188503367835,\n",
       " 6.579655641885196]"
      ]
     },
     "execution_count": 360,
     "metadata": {},
     "output_type": "execute_result"
    }
   ],
   "source": [
    "reg_no_label_std"
   ]
  },
  {
   "cell_type": "markdown",
   "metadata": {
    "heading_collapsed": true,
    "hidden": true
   },
   "source": [
    "#### SVM"
   ]
  },
  {
   "cell_type": "code",
   "execution_count": 361,
   "metadata": {
    "hidden": true
   },
   "outputs": [
    {
     "name": "stdout",
     "output_type": "stream",
     "text": [
      "[21.305227047744484, 16.63305739188103, 11.726403477674518, 14.474850517205, 17.293097268204566, 19.38279713733938, 20.59297411197077, 21.170427279473284, 21.413481205946884, 21.509385651197604, 21.54606722711453, 21.559921809724365]\n"
     ]
    }
   ],
   "source": [
    "from sklearn import svm\n",
    "\n",
    "gammas = [0.001, 0.1] + list(np.arange(1,100,10))\n",
    "reg_svms = []\n",
    "reg_train_mse = []\n",
    "reg_test_mse = []\n",
    "\n",
    "for gamma in gammas:\n",
    "    reg_svm = svm.SVR(gamma=gamma, C=100)\n",
    "    reg_svm.fit(reg_train_X.copy(), reg_train_y.copy())\n",
    "    reg_svms.append(reg_svm)\n",
    "    \n",
    "    reg_train_mse.append(mean_squared_error(reg_train_y, reg_svm.predict(reg_train_X)))\n",
    "    #reg_test_proba.append(np.mean(reg_svm.predict_proba(reg_test_X)[:, 0]))\n",
    "    reg_test_mse.append(mean_squared_error(reg_test_y, reg_svm.predict(reg_test_X)))\n",
    "    \n",
    "print(reg_test_mse)"
   ]
  },
  {
   "cell_type": "code",
   "execution_count": 362,
   "metadata": {
    "hidden": true
   },
   "outputs": [
    {
     "data": {
      "text/plain": [
       "[20.42437748567856,\n",
       " 10.128031517102965,\n",
       " 0.18042923799223443,\n",
       " 0.010002280745260978,\n",
       " 0.009812607223812888,\n",
       " 0.009879435652798715,\n",
       " 0.00980300591708747,\n",
       " 0.009944456547221958,\n",
       " 0.009897236344222151,\n",
       " 0.009907165904174078,\n",
       " 0.009901554390045907,\n",
       " 0.009900731299460142]"
      ]
     },
     "execution_count": 362,
     "metadata": {},
     "output_type": "execute_result"
    }
   ],
   "source": [
    "reg_train_mse"
   ]
  },
  {
   "cell_type": "code",
   "execution_count": 363,
   "metadata": {
    "hidden": true
   },
   "outputs": [],
   "source": [
    "no_label_X = np.random.multivariate_normal(np.random.rand((n_features)), \n",
    "                                   cov=np.eye(n_features),\n",
    "                                   size=n_test)"
   ]
  },
  {
   "cell_type": "code",
   "execution_count": 364,
   "metadata": {
    "hidden": true
   },
   "outputs": [],
   "source": [
    "reg_no_label_std = []\n",
    "reg_no_label_mean = []\n",
    "for svm_idx, svm in enumerate(reg_svms):\n",
    "    predictions = svm.predict(no_label_X)\n",
    "    reg_no_label_mean.append(np.mean(predictions))\n",
    "    reg_no_label_std.append(np.std(predictions))"
   ]
  },
  {
   "cell_type": "code",
   "execution_count": 365,
   "metadata": {
    "hidden": true
   },
   "outputs": [
    {
     "data": {
      "text/plain": [
       "[0.16452271682992914,\n",
       " 4.440892098500626e-16,\n",
       " 1.7763568394002505e-15,\n",
       " 0.0,\n",
       " 0.0,\n",
       " 0.0,\n",
       " 1.1102230246251565e-16,\n",
       " 0.0,\n",
       " 5.551115123125783e-17,\n",
       " 5.551115123125783e-17,\n",
       " 5.551115123125783e-17,\n",
       " 0.0]"
      ]
     },
     "execution_count": 365,
     "metadata": {},
     "output_type": "execute_result"
    }
   ],
   "source": [
    "reg_no_label_std"
   ]
  },
  {
   "cell_type": "markdown",
   "metadata": {
    "heading_collapsed": true,
    "hidden": true
   },
   "source": [
    "#### Polynomial regression"
   ]
  },
  {
   "cell_type": "code",
   "execution_count": 251,
   "metadata": {
    "hidden": true,
    "scrolled": true
   },
   "outputs": [
    {
     "name": "stdout",
     "output_type": "stream",
     "text": [
      "1\n"
     ]
    },
    {
     "ename": "KeyboardInterrupt",
     "evalue": "",
     "output_type": "error",
     "traceback": [
      "\u001b[0;31m---------------------------------------------------------------------------\u001b[0m",
      "\u001b[0;31mKeyboardInterrupt\u001b[0m                         Traceback (most recent call last)",
      "\u001b[0;32m<ipython-input-251-392e477ac0f9>\u001b[0m in \u001b[0;36m<module>\u001b[0;34m\u001b[0m\n\u001b[1;32m     14\u001b[0m                            (\"linear_regression\", reg_model)])\n\u001b[1;32m     15\u001b[0m \u001b[0;34m\u001b[0m\u001b[0m\n\u001b[0;32m---> 16\u001b[0;31m     \u001b[0mreg_pipeline\u001b[0m\u001b[0;34m.\u001b[0m\u001b[0mfit\u001b[0m\u001b[0;34m(\u001b[0m\u001b[0mreg_train_X\u001b[0m\u001b[0;34m.\u001b[0m\u001b[0mcopy\u001b[0m\u001b[0;34m(\u001b[0m\u001b[0;34m)\u001b[0m\u001b[0;34m,\u001b[0m \u001b[0mreg_train_y\u001b[0m\u001b[0;34m.\u001b[0m\u001b[0mcopy\u001b[0m\u001b[0;34m(\u001b[0m\u001b[0;34m)\u001b[0m\u001b[0;34m)\u001b[0m\u001b[0;34m\u001b[0m\u001b[0;34m\u001b[0m\u001b[0m\n\u001b[0m\u001b[1;32m     17\u001b[0m \u001b[0;34m\u001b[0m\u001b[0m\n\u001b[1;32m     18\u001b[0m     \u001b[0mreg_pipelines\u001b[0m\u001b[0;34m.\u001b[0m\u001b[0mappend\u001b[0m\u001b[0;34m(\u001b[0m\u001b[0mreg_pipeline\u001b[0m\u001b[0;34m)\u001b[0m\u001b[0;34m\u001b[0m\u001b[0;34m\u001b[0m\u001b[0m\n",
      "\u001b[0;32m~/.conda/envs/py37/lib/python3.7/site-packages/sklearn/pipeline.py\u001b[0m in \u001b[0;36mfit\u001b[0;34m(self, X, y, **fit_params)\u001b[0m\n\u001b[1;32m    354\u001b[0m                                  self._log_message(len(self.steps) - 1)):\n\u001b[1;32m    355\u001b[0m             \u001b[0;32mif\u001b[0m \u001b[0mself\u001b[0m\u001b[0;34m.\u001b[0m\u001b[0m_final_estimator\u001b[0m \u001b[0;34m!=\u001b[0m \u001b[0;34m'passthrough'\u001b[0m\u001b[0;34m:\u001b[0m\u001b[0;34m\u001b[0m\u001b[0;34m\u001b[0m\u001b[0m\n\u001b[0;32m--> 356\u001b[0;31m                 \u001b[0mself\u001b[0m\u001b[0;34m.\u001b[0m\u001b[0m_final_estimator\u001b[0m\u001b[0;34m.\u001b[0m\u001b[0mfit\u001b[0m\u001b[0;34m(\u001b[0m\u001b[0mXt\u001b[0m\u001b[0;34m,\u001b[0m \u001b[0my\u001b[0m\u001b[0;34m,\u001b[0m \u001b[0;34m**\u001b[0m\u001b[0mfit_params\u001b[0m\u001b[0;34m)\u001b[0m\u001b[0;34m\u001b[0m\u001b[0;34m\u001b[0m\u001b[0m\n\u001b[0m\u001b[1;32m    357\u001b[0m         \u001b[0;32mreturn\u001b[0m \u001b[0mself\u001b[0m\u001b[0;34m\u001b[0m\u001b[0;34m\u001b[0m\u001b[0m\n\u001b[1;32m    358\u001b[0m \u001b[0;34m\u001b[0m\u001b[0m\n",
      "\u001b[0;32m~/.conda/envs/py37/lib/python3.7/site-packages/sklearn/linear_model/base.py\u001b[0m in \u001b[0;36mfit\u001b[0;34m(self, X, y, sample_weight)\u001b[0m\n\u001b[1;32m    469\u001b[0m             \u001b[0mX\u001b[0m\u001b[0;34m,\u001b[0m \u001b[0my\u001b[0m\u001b[0;34m,\u001b[0m \u001b[0mfit_intercept\u001b[0m\u001b[0;34m=\u001b[0m\u001b[0mself\u001b[0m\u001b[0;34m.\u001b[0m\u001b[0mfit_intercept\u001b[0m\u001b[0;34m,\u001b[0m \u001b[0mnormalize\u001b[0m\u001b[0;34m=\u001b[0m\u001b[0mself\u001b[0m\u001b[0;34m.\u001b[0m\u001b[0mnormalize\u001b[0m\u001b[0;34m,\u001b[0m\u001b[0;34m\u001b[0m\u001b[0;34m\u001b[0m\u001b[0m\n\u001b[1;32m    470\u001b[0m             \u001b[0mcopy\u001b[0m\u001b[0;34m=\u001b[0m\u001b[0mself\u001b[0m\u001b[0;34m.\u001b[0m\u001b[0mcopy_X\u001b[0m\u001b[0;34m,\u001b[0m \u001b[0msample_weight\u001b[0m\u001b[0;34m=\u001b[0m\u001b[0msample_weight\u001b[0m\u001b[0;34m,\u001b[0m\u001b[0;34m\u001b[0m\u001b[0;34m\u001b[0m\u001b[0m\n\u001b[0;32m--> 471\u001b[0;31m             return_mean=True)\n\u001b[0m\u001b[1;32m    472\u001b[0m \u001b[0;34m\u001b[0m\u001b[0m\n\u001b[1;32m    473\u001b[0m         \u001b[0;32mif\u001b[0m \u001b[0msample_weight\u001b[0m \u001b[0;32mis\u001b[0m \u001b[0;32mnot\u001b[0m \u001b[0;32mNone\u001b[0m\u001b[0;34m:\u001b[0m\u001b[0;34m\u001b[0m\u001b[0;34m\u001b[0m\u001b[0m\n",
      "\u001b[0;32m~/.conda/envs/py37/lib/python3.7/site-packages/sklearn/linear_model/base.py\u001b[0m in \u001b[0;36m_preprocess_data\u001b[0;34m(X, y, fit_intercept, normalize, copy, sample_weight, return_mean, check_input)\u001b[0m\n\u001b[1;32m    155\u001b[0m \u001b[0;34m\u001b[0m\u001b[0m\n\u001b[1;32m    156\u001b[0m         \u001b[0;32melse\u001b[0m\u001b[0;34m:\u001b[0m\u001b[0;34m\u001b[0m\u001b[0;34m\u001b[0m\u001b[0m\n\u001b[0;32m--> 157\u001b[0;31m             \u001b[0mX_offset\u001b[0m \u001b[0;34m=\u001b[0m \u001b[0mnp\u001b[0m\u001b[0;34m.\u001b[0m\u001b[0maverage\u001b[0m\u001b[0;34m(\u001b[0m\u001b[0mX\u001b[0m\u001b[0;34m,\u001b[0m \u001b[0maxis\u001b[0m\u001b[0;34m=\u001b[0m\u001b[0;36m0\u001b[0m\u001b[0;34m,\u001b[0m \u001b[0mweights\u001b[0m\u001b[0;34m=\u001b[0m\u001b[0msample_weight\u001b[0m\u001b[0;34m)\u001b[0m\u001b[0;34m\u001b[0m\u001b[0;34m\u001b[0m\u001b[0m\n\u001b[0m\u001b[1;32m    158\u001b[0m             \u001b[0mX\u001b[0m \u001b[0;34m-=\u001b[0m \u001b[0mX_offset\u001b[0m\u001b[0;34m\u001b[0m\u001b[0;34m\u001b[0m\u001b[0m\n\u001b[1;32m    159\u001b[0m             \u001b[0;32mif\u001b[0m \u001b[0mnormalize\u001b[0m\u001b[0;34m:\u001b[0m\u001b[0;34m\u001b[0m\u001b[0;34m\u001b[0m\u001b[0m\n",
      "\u001b[0;32m~/.conda/envs/py37/lib/python3.7/site-packages/numpy/lib/function_base.py\u001b[0m in \u001b[0;36maverage\u001b[0;34m(a, axis, weights, returned)\u001b[0m\n\u001b[1;32m    390\u001b[0m \u001b[0;34m\u001b[0m\u001b[0m\n\u001b[1;32m    391\u001b[0m     \u001b[0;32mif\u001b[0m \u001b[0mweights\u001b[0m \u001b[0;32mis\u001b[0m \u001b[0;32mNone\u001b[0m\u001b[0;34m:\u001b[0m\u001b[0;34m\u001b[0m\u001b[0;34m\u001b[0m\u001b[0m\n\u001b[0;32m--> 392\u001b[0;31m         \u001b[0mavg\u001b[0m \u001b[0;34m=\u001b[0m \u001b[0ma\u001b[0m\u001b[0;34m.\u001b[0m\u001b[0mmean\u001b[0m\u001b[0;34m(\u001b[0m\u001b[0maxis\u001b[0m\u001b[0;34m)\u001b[0m\u001b[0;34m\u001b[0m\u001b[0;34m\u001b[0m\u001b[0m\n\u001b[0m\u001b[1;32m    393\u001b[0m         \u001b[0mscl\u001b[0m \u001b[0;34m=\u001b[0m \u001b[0mavg\u001b[0m\u001b[0;34m.\u001b[0m\u001b[0mdtype\u001b[0m\u001b[0;34m.\u001b[0m\u001b[0mtype\u001b[0m\u001b[0;34m(\u001b[0m\u001b[0ma\u001b[0m\u001b[0;34m.\u001b[0m\u001b[0msize\u001b[0m\u001b[0;34m/\u001b[0m\u001b[0mavg\u001b[0m\u001b[0;34m.\u001b[0m\u001b[0msize\u001b[0m\u001b[0;34m)\u001b[0m\u001b[0;34m\u001b[0m\u001b[0;34m\u001b[0m\u001b[0m\n\u001b[1;32m    394\u001b[0m     \u001b[0;32melse\u001b[0m\u001b[0;34m:\u001b[0m\u001b[0;34m\u001b[0m\u001b[0;34m\u001b[0m\u001b[0m\n",
      "\u001b[0;32m~/.conda/envs/py37/lib/python3.7/site-packages/numpy/core/_methods.py\u001b[0m in \u001b[0;36m_mean\u001b[0;34m(a, axis, dtype, out, keepdims)\u001b[0m\n\u001b[1;32m     73\u001b[0m             \u001b[0mis_float16_result\u001b[0m \u001b[0;34m=\u001b[0m \u001b[0;32mTrue\u001b[0m\u001b[0;34m\u001b[0m\u001b[0;34m\u001b[0m\u001b[0m\n\u001b[1;32m     74\u001b[0m \u001b[0;34m\u001b[0m\u001b[0m\n\u001b[0;32m---> 75\u001b[0;31m     \u001b[0mret\u001b[0m \u001b[0;34m=\u001b[0m \u001b[0mumr_sum\u001b[0m\u001b[0;34m(\u001b[0m\u001b[0marr\u001b[0m\u001b[0;34m,\u001b[0m \u001b[0maxis\u001b[0m\u001b[0;34m,\u001b[0m \u001b[0mdtype\u001b[0m\u001b[0;34m,\u001b[0m \u001b[0mout\u001b[0m\u001b[0;34m,\u001b[0m \u001b[0mkeepdims\u001b[0m\u001b[0;34m)\u001b[0m\u001b[0;34m\u001b[0m\u001b[0;34m\u001b[0m\u001b[0m\n\u001b[0m\u001b[1;32m     76\u001b[0m     \u001b[0;32mif\u001b[0m \u001b[0misinstance\u001b[0m\u001b[0;34m(\u001b[0m\u001b[0mret\u001b[0m\u001b[0;34m,\u001b[0m \u001b[0mmu\u001b[0m\u001b[0;34m.\u001b[0m\u001b[0mndarray\u001b[0m\u001b[0;34m)\u001b[0m\u001b[0;34m:\u001b[0m\u001b[0;34m\u001b[0m\u001b[0;34m\u001b[0m\u001b[0m\n\u001b[1;32m     77\u001b[0m         ret = um.true_divide(\n",
      "\u001b[0;31mKeyboardInterrupt\u001b[0m: "
     ]
    }
   ],
   "source": [
    "# polynomial regression blows up\n",
    "degrees = np.arange(1,9)\n",
    "\n",
    "reg_train_mse = []\n",
    "reg_test_mse = []\n",
    "reg_pipelines = []\n",
    "for deg in degrees:\n",
    "    poly_features = PolynomialFeatures(degree=deg, \n",
    "                                       include_bias=False,\n",
    "                                       interaction_only=True)\n",
    "    reg_model = LinearRegression(n_jobs=-1,\n",
    "                                normalize=True)\n",
    "    reg_pipeline = Pipeline([(\"polynomial_features\", poly_features),\n",
    "                           (\"linear_regression\", reg_model)])\n",
    "    \n",
    "    reg_pipeline.fit(reg_train_X.copy(), reg_train_y.copy())\n",
    "    \n",
    "    reg_pipelines.append(reg_pipeline)\n",
    "    \n",
    "    reg_train_mse.append(mean_squared_error(reg_train_y, reg_pipeline.predict(reg_train_X)))\n",
    "    #reg_test_proba.append(np.mean(reg_pipeline.predict_proba(reg_test_X)[:, 0]))\n",
    "    reg_test_mse.append(mean_squared_error(reg_test_y, reg_pipeline.predict(reg_test_X)))\n",
    "    print(deg)\n",
    "    \n",
    "print(reg_test_mse)"
   ]
  },
  {
   "cell_type": "code",
   "execution_count": null,
   "metadata": {
    "hidden": true
   },
   "outputs": [],
   "source": [
    "reg_train_mse"
   ]
  },
  {
   "cell_type": "code",
   "execution_count": null,
   "metadata": {
    "hidden": true
   },
   "outputs": [],
   "source": [
    "no_label_X = np.random.multivariate_normal(np.random.rand((n_features)), \n",
    "                                   cov=np.eye(n_features),\n",
    "                                   size=n_test)"
   ]
  },
  {
   "cell_type": "code",
   "execution_count": null,
   "metadata": {
    "hidden": true
   },
   "outputs": [],
   "source": [
    "reg_no_label_std = []\n",
    "reg_no_label_mean = []\n",
    "for pipe_idx, pipe in enumerate(reg_pipelines):\n",
    "    predictions = pipe.predict(no_label_X)\n",
    "    reg_no_label_mean.append(np.mean(predictions))\n",
    "    reg_no_label_std.append(np.std(predictions))"
   ]
  },
  {
   "cell_type": "code",
   "execution_count": 135,
   "metadata": {
    "hidden": true
   },
   "outputs": [
    {
     "data": {
      "text/plain": [
       "[160.45880326838653,\n",
       " 160.45880326838724,\n",
       " 748457.5657334188,\n",
       " 90422989.03923123,\n",
       " 6941111902.688086,\n",
       " 537844988550.5026,\n",
       " 39300345351392.4,\n",
       " 3052402948069559.5]"
      ]
     },
     "execution_count": 135,
     "metadata": {},
     "output_type": "execute_result"
    }
   ],
   "source": [
    "reg_no_label_std"
   ]
  },
  {
   "cell_type": "code",
   "execution_count": 136,
   "metadata": {
    "hidden": true
   },
   "outputs": [
    {
     "data": {
      "text/plain": [
       "[157.1549505500332,\n",
       " 157.1549505500538,\n",
       " -166403.12351055045,\n",
       " -8378021.298976034,\n",
       " -189462058.24636337,\n",
       " -34564497781.94811,\n",
       " -4026424114150.8613,\n",
       " 154756739433710.9]"
      ]
     },
     "execution_count": 136,
     "metadata": {},
     "output_type": "execute_result"
    }
   ],
   "source": [
    "reg_no_label_mean"
   ]
  },
  {
   "cell_type": "markdown",
   "metadata": {
    "hidden": true
   },
   "source": [
    "#### Regression"
   ]
  },
  {
   "cell_type": "code",
   "execution_count": 402,
   "metadata": {
    "hidden": true
   },
   "outputs": [],
   "source": [
    "random_state = 3\n",
    "effective_rank = 20\n",
    "n_informative = 10\n",
    "n_features = 1000\n",
    "n_train = 500\n",
    "n_test = 500\n",
    "tail_strength = 0.5\n",
    "noise = 0\n",
    "\n",
    "\n",
    "reg_train_mse = []\n",
    "reg_test_mse = []\n",
    "reg_models = []\n",
    "reg_no_label_mean = []\n",
    "reg_no_label_std = []\n",
    "feat_sizes = np.arange(200, 2001, 200)\n",
    "for n_features in feat_sizes:\n",
    "    reg_train_X, reg_train_y, reg_test_X, reg_test_y = generate_reg_data(n_train,\n",
    "                                                       n_test,\n",
    "                                                       n_features=n_features,\n",
    "                                                       n_informative=n_informative,\n",
    "                                                       effective_rank=effective_rank,\n",
    "                                                       tail_strength=tail_strength,\n",
    "                                                       noise=noise,\n",
    "                                                       random_state=random_state)\n",
    "    reg_model = LinearRegression(n_jobs=-1)\n",
    "    reg_model.fit(reg_train_X, reg_train_y)\n",
    "    reg_models.append(reg_model)\n",
    "    \n",
    "    reg_train_mse.append(mean_squared_error(reg_train_y, reg_model.predict(reg_train_X)))\n",
    "    reg_test_mse.append(mean_squared_error(reg_test_y, reg_model.predict(reg_test_X)))"
   ]
  },
  {
   "cell_type": "code",
   "execution_count": null,
   "metadata": {
    "hidden": true
   },
   "outputs": [],
   "source": [
    "print(reg_test_mse)"
   ]
  },
  {
   "cell_type": "code",
   "execution_count": null,
   "metadata": {
    "hidden": true
   },
   "outputs": [],
   "source": [
    "n_trials = 10"
   ]
  },
  {
   "cell_type": "code",
   "execution_count": null,
   "metadata": {
    "hidden": true
   },
   "outputs": [],
   "source": [
    "pred_stds = np.zeros((n_trials, len(reg_models)))\n",
    "for trial in range(n_trials):\n",
    "    for model_idx, reg_model in enumerate(reg_models):\n",
    "        n_features = feat_sizes[model_idx]\n",
    "        no_label_X = np.random.multivariate_normal(np.random.rand((n_features)), \n",
    "                                       cov=np.eye(n_features),\n",
    "                                       size=n_test)\n",
    "        predictions = reg_model.predict(no_label_X)\n",
    "        #reg_no_label_mean.append(np.mean(predictions))\n",
    "        pred_stds[trial, model_idx] = np.std(predictions)\n",
    "    print(trial)"
   ]
  },
  {
   "cell_type": "code",
   "execution_count": null,
   "metadata": {
    "hidden": true
   },
   "outputs": [],
   "source": [
    "avg_stds = np.mean(pred_stds, axis=0)\n",
    "std_stds = np.std(pred_stds, axis=0)"
   ]
  },
  {
   "cell_type": "code",
   "execution_count": null,
   "metadata": {
    "hidden": true
   },
   "outputs": [],
   "source": [
    "avg_stds"
   ]
  },
  {
   "cell_type": "code",
   "execution_count": null,
   "metadata": {
    "hidden": true
   },
   "outputs": [],
   "source": [
    "std_stds"
   ]
  },
  {
   "cell_type": "markdown",
   "metadata": {
    "heading_collapsed": true,
    "hidden": true
   },
   "source": [
    "### Notes"
   ]
  },
  {
   "cell_type": "markdown",
   "metadata": {
    "hidden": true
   },
   "source": [
    "- how to properly adjust effective rank parameter?"
   ]
  },
  {
   "cell_type": "markdown",
   "metadata": {
    "heading_collapsed": true,
    "hidden": true
   },
   "source": [
    "### Plots"
   ]
  },
  {
   "cell_type": "code",
   "execution_count": 405,
   "metadata": {
    "hidden": true
   },
   "outputs": [
    {
     "data": {
      "image/png": "[encoded data removed]",
      "text/plain": [
       "<Figure size 432x288 with 1 Axes>"
      ]
     },
     "metadata": {
      "needs_background": "light"
     },
     "output_type": "display_data"
    }
   ],
   "source": [
    "plt.errorbar(feat_sizes, avg_stds, yerr=std_stds)\n",
    "plt.ylabel(\"unlabelled prediction SD\")\n",
    "plt.xlabel(\"# features\")\n",
    "plt.title(\"Unlabelled Overfit Regression\")\n",
    "plt.show()"
   ]
  },
  {
   "cell_type": "markdown",
   "metadata": {},
   "source": [
    "## Noise Simulation"
   ]
  },
  {
   "cell_type": "markdown",
   "metadata": {},
   "source": [
    "- want to check simplest case when the features do not provide any information on the response variables"
   ]
  },
  {
   "cell_type": "markdown",
   "metadata": {},
   "source": [
    "### Classification sandbox"
   ]
  },
  {
   "cell_type": "code",
   "execution_count": null,
   "metadata": {},
   "outputs": [],
   "source": [
    "random_state = 3\n",
    "n_informative = 0\n",
    "n_train = 500\n",
    "n_test = 500\n",
    "weights = [0.5, 0.5]\n",
    "flip_y = 0\n",
    "\n",
    "\n",
    "n_features = 250\n",
    "train_X, train_y, \\\n",
    "test_X, test_y = generate_class_data(n_train,\n",
    "                                     n_test,\n",
    "                                     n_informative=n_informative,\n",
    "                                     n_features=n_features,\n",
    "                                     weights=weights,\n",
    "                                     flip_y=flip_y)\n",
    "                                                       "
   ]
  },
  {
   "cell_type": "markdown",
   "metadata": {},
   "source": [
    "#### Polynomial features (n_features stays constant)"
   ]
  },
  {
   "cell_type": "code",
   "execution_count": 177,
   "metadata": {},
   "outputs": [
    {
     "name": "stdout",
     "output_type": "stream",
     "text": [
      "-276.5848939275271\n",
      "-13.274462449921536\n",
      "267\n",
      "258\n",
      "[False False False False False]\n"
     ]
    }
   ],
   "source": [
    "n_train = 500\n",
    "n_test = 500\n",
    "n_features = 20\n",
    "random_state = 3\n",
    "train_X, train_y, test_X, test_y = generate_noise_class_data(n_train,\n",
    "                                                             n_test,\n",
    "                                                             n_features,\n",
    "                                                             random_state=random_state)\n",
    "print(np.sum(train_X))\n",
    "print(np.sum(test_X))\n",
    "print(np.sum(train_y))\n",
    "print(np.sum(test_y))\n",
    "print(train_y[:5])"
   ]
  },
  {
   "cell_type": "code",
   "execution_count": 178,
   "metadata": {},
   "outputs": [
    {
     "name": "stdout",
     "output_type": "stream",
     "text": [
      "1\n",
      "2\n",
      "3\n",
      "4\n",
      "5\n",
      "6\n",
      "7\n",
      "8\n",
      "9\n",
      "10\n",
      "11\n",
      "[0.516, 0.488, 0.504, 0.496, 0.48, 0.506, 0.528, 0.524, 0.528, 0.516, 0.512]\n"
     ]
    }
   ],
   "source": [
    "degrees = np.arange(1,12)\n",
    "\n",
    "\n",
    "train_acc = []\n",
    "test_acc = []\n",
    "\n",
    "train_proba = []\n",
    "test_proba = []\n",
    "pipelines = []\n",
    "\n",
    "for deg in degrees:\n",
    "    poly_features = PolynomialFeatures(degree=deg, \n",
    "                                       include_bias=False,\n",
    "                                       interaction_only=True)\n",
    "    lr_model = LogisticRegression(solver='lbfgs', \n",
    "                                  penalty='none', \n",
    "                                  #C=1000,\n",
    "                                  random_state=random_state,\n",
    "                                  n_jobs=-1)\n",
    "    lr_pipeline = Pipeline([(\"polynomial_features\", poly_features),\n",
    "                           (\"logistic_regression\", lr_model)])\n",
    "    \n",
    "    lr_pipeline.fit(train_X.copy(), train_y.copy())\n",
    "    \n",
    "    pipelines.append(lr_pipeline)\n",
    "    \n",
    "    train_acc.append(accuracy_score(train_y, lr_pipeline.predict(train_X)))\n",
    "    train_proba.append(lr_pipeline.predict_proba(train_X)[:, 1])\n",
    "    \n",
    "    test_acc.append(accuracy_score(test_y, lr_pipeline.predict(test_X)))\n",
    "    test_proba.append(lr_pipeline.predict_proba(test_X)[:, 1])\n",
    "    \n",
    "    print(deg)\n",
    "    \n",
    "print(test_acc)"
   ]
  },
  {
   "cell_type": "code",
   "execution_count": 188,
   "metadata": {},
   "outputs": [
    {
     "name": "stdout",
     "output_type": "stream",
     "text": [
      "[0.568, 0.858, 1.0, 1.0, 1.0, 1.0, 1.0, 1.0, 1.0, 1.0, 1.0]\n",
      "20\n",
      "210\n",
      "1350\n",
      "6195\n",
      "21699\n",
      "60459\n",
      "137979\n",
      "263949\n",
      "431909\n",
      "616665\n",
      "784625\n"
     ]
    }
   ],
   "source": [
    "print(train_acc)\n",
    "for pipe in pipelines:\n",
    "    print(pipe['polynomial_features'].n_output_features_)"
   ]
  },
  {
   "cell_type": "code",
   "execution_count": 180,
   "metadata": {},
   "outputs": [
    {
     "data": {
      "text/plain": [
       "<matplotlib.axes._subplots.AxesSubplot at 0x7f637071f400>"
      ]
     },
     "execution_count": 180,
     "metadata": {},
     "output_type": "execute_result"
    },
    {
     "data": {
      "image/png": "[encoded data removed]",
      "text/plain": [
       "<Figure size 432x288 with 1 Axes>"
      ]
     },
     "metadata": {
      "needs_background": "light"
     },
     "output_type": "display_data"
    }
   ],
   "source": [
    "sns.distplot(train_proba[6], bins=np.arange(0,1.1, 0.05))"
   ]
  },
  {
   "cell_type": "code",
   "execution_count": 185,
   "metadata": {
    "scrolled": true
   },
   "outputs": [
    {
     "data": {
      "text/plain": [
       "<matplotlib.axes._subplots.AxesSubplot at 0x7f63706a4400>"
      ]
     },
     "execution_count": 185,
     "metadata": {},
     "output_type": "execute_result"
    },
    {
     "data": {
      "image/png": "[encoded data removed]",
      "text/plain": [
       "<Figure size 432x288 with 1 Axes>"
      ]
     },
     "metadata": {
      "needs_background": "light"
     },
     "output_type": "display_data"
    }
   ],
   "source": [
    "sns.distplot(test_proba[10], bins=np.arange(0,1.1, 0.1))"
   ]
  },
  {
   "cell_type": "markdown",
   "metadata": {},
   "source": [
    "#### Increasing n_features"
   ]
  },
  {
   "cell_type": "code",
   "execution_count": 227,
   "metadata": {},
   "outputs": [
    {
     "name": "stdout",
     "output_type": "stream",
     "text": [
      "Degree: 1\n",
      "100\n",
      "200\n",
      "300\n",
      "400\n",
      "500\n",
      "600\n",
      "700\n",
      "800\n",
      "900\n",
      "1000\n",
      "1100\n",
      "1200\n",
      "1300\n",
      "1400\n",
      "1500\n",
      "1600\n",
      "1700\n",
      "1800\n",
      "1900\n",
      "2000\n",
      "Degree: 2\n",
      "5050\n",
      "20100\n",
      "45150\n",
      "80200\n",
      "125250\n",
      "180300\n",
      "245350\n",
      "320400\n",
      "405450\n",
      "500500\n",
      "605550\n",
      "720600\n",
      "845650\n",
      "980700\n",
      "1125750\n",
      "1280800\n",
      "1445850\n",
      "1620900\n",
      "1805950\n",
      "2001000\n"
     ]
    }
   ],
   "source": [
    "n_train = 500\n",
    "n_test = 500\n",
    "random_state = 3\n",
    "n_features = list(np.arange(0, 2001, 100))\n",
    "\n",
    "\n",
    "models = []\n",
    "\n",
    "train_accs = []\n",
    "test_accs = []\n",
    "\n",
    "train_probas = []\n",
    "test_probas = []\n",
    "\n",
    "for deg in [1,2]:\n",
    "    print(\"Degree: {}\".format(deg))\n",
    "    lr_models = []\n",
    "\n",
    "    train_acc = []\n",
    "    test_acc = []\n",
    "\n",
    "    train_proba = []\n",
    "    test_proba = []\n",
    "    for n_feat in n_features[1:]:\n",
    "\n",
    "        train_X, train_y, \\\n",
    "        test_X, test_y = generate_noise_class_data(n_train,\n",
    "                                                   n_test,\n",
    "                                                   n_feat,\n",
    "                                                   random_state=random_state)\n",
    "\n",
    "        lr_features = PolynomialFeatures(degree=deg, \n",
    "                                           include_bias=False,\n",
    "                                           interaction_only=True)\n",
    "        lr_pipeline = LogisticRegression(solver='lbfgs', \n",
    "                                      penalty='none', \n",
    "                                      #C=1000,\n",
    "                                      random_state=random_state,\n",
    "                                      n_jobs=-1)\n",
    "        lr_pipeline = Pipeline([(\"polynomial_features\", lr_features),\n",
    "                               (\"logistic_regression\", lr_pipeline)])\n",
    "\n",
    "        lr_pipeline.fit(train_X.copy(), train_y.copy())\n",
    "\n",
    "        lr_models.append(lr_pipeline)\n",
    "\n",
    "        train_acc.append(accuracy_score(train_y, lr_pipeline.predict(train_X)))\n",
    "        train_proba.append(lr_pipeline.predict_proba(train_X)[:, 1])\n",
    "\n",
    "        test_acc.append(accuracy_score(test_y, lr_pipeline.predict(test_X)))\n",
    "        test_proba.append(lr_pipeline.predict_proba(test_X)[:, 1])\n",
    "\n",
    "        print(lr_pipeline['polynomial_features'].n_output_features_)\n",
    "        \n",
    "    models.append(lr_models)\n",
    "    train_accs.append(train_acc)\n",
    "    test_accs.append(test_acc)\n",
    "    train_probas.append(train_proba)\n",
    "    test_probas.append(test_proba)\n",
    "    "
   ]
  },
  {
   "cell_type": "code",
   "execution_count": 228,
   "metadata": {},
   "outputs": [
    {
     "name": "stdout",
     "output_type": "stream",
     "text": [
      "[0.698, 0.794, 1.0, 1.0, 1.0, 1.0, 1.0, 1.0, 1.0, 1.0, 1.0, 1.0, 1.0, 1.0, 1.0, 1.0, 1.0, 1.0, 1.0, 1.0]\n"
     ]
    }
   ],
   "source": [
    "print(train_accs[0])"
   ]
  },
  {
   "cell_type": "code",
   "execution_count": 237,
   "metadata": {},
   "outputs": [
    {
     "data": {
      "text/plain": [
       "<matplotlib.axes._subplots.AxesSubplot at 0x7f63796cea90>"
      ]
     },
     "execution_count": 237,
     "metadata": {},
     "output_type": "execute_result"
    },
    {
     "data": {
      "image/png": "[encoded data removed]",
      "text/plain": [
       "<Figure size 432x288 with 1 Axes>"
      ]
     },
     "metadata": {
      "needs_background": "light"
     },
     "output_type": "display_data"
    }
   ],
   "source": [
    "sns.distplot(train_probas[1][19], bins=np.arange(0,1.1, 0.05))"
   ]
  },
  {
   "cell_type": "code",
   "execution_count": 253,
   "metadata": {},
   "outputs": [
    {
     "data": {
      "text/plain": [
       "<matplotlib.axes._subplots.AxesSubplot at 0x7f6379b73898>"
      ]
     },
     "execution_count": 253,
     "metadata": {},
     "output_type": "execute_result"
    },
    {
     "data": {
      "image/png": "[encoded data removed]",
      "text/plain": [
       "<Figure size 432x288 with 1 Axes>"
      ]
     },
     "metadata": {
      "needs_background": "light"
     },
     "output_type": "display_data"
    }
   ],
   "source": [
    "sns.distplot(test_probas[1][19], bins=np.arange(0,1.1, 0.05))"
   ]
  },
  {
   "cell_type": "code",
   "execution_count": 284,
   "metadata": {},
   "outputs": [
    {
     "name": "stdout",
     "output_type": "stream",
     "text": [
      "[0.476, 0.494, 0.468, 0.484, 0.504, 0.49, 0.476, 0.486, 0.504, 0.474, 0.464, 0.516, 0.516, 0.492, 0.52, 0.49, 0.496, 0.518, 0.502, 0.506]\n"
     ]
    }
   ],
   "source": [
    "print(test_accs[0])"
   ]
  },
  {
   "cell_type": "code",
   "execution_count": 285,
   "metadata": {},
   "outputs": [
    {
     "name": "stdout",
     "output_type": "stream",
     "text": [
      "[0.524, 0.482, 0.524, 0.508, 0.526, 0.484, 0.5, 0.526, 0.48, 0.522, 0.506, 0.512, 0.49, 0.492, 0.548, 0.474, 0.47, 0.468, 0.48, 0.514]\n"
     ]
    }
   ],
   "source": [
    "print(test_accs[1])"
   ]
  },
  {
   "cell_type": "code",
   "execution_count": 252,
   "metadata": {},
   "outputs": [],
   "source": [
    "# save models, predictions\n",
    "pickle.dump(models, open(\"../pkl/noise_class_models.pkl\", \"wb\"), -1)\n",
    "pickle.dump(train_accs, open(\"../pkl/noise_class_train_acc.pkl\", \"wb\"), -1)\n",
    "pickle.dump(test_accs, open(\"../pkl/noise_class_test_acc.pkl\", \"wb\"), -1)\n",
    "\n",
    "pickle.dump(train_probas, open(\"../pkl/noise_class_train_proba.pkl\", \"wb\"), -1)\n",
    "pickle.dump(test_probas, open(\"../pkl/noise_class_test_proba.pkl\", \"wb\"), -1)"
   ]
  },
  {
   "cell_type": "code",
   "execution_count": 312,
   "metadata": {},
   "outputs": [],
   "source": [
    "# raw distance\n",
    "base_diffs = []\n",
    "poly_diffs = []\n",
    "\n",
    "for idx in range(len(n_features[1:])):\n",
    "    base_diff = np.mean(np.abs(0.5 - test_probas[0][idx]))\n",
    "    poly_diff = np.mean(np.abs(0.5 - test_probas[1][idx]))\n",
    "\n",
    "    base_diffs.append(base_diff)\n",
    "    poly_diffs.append(poly_diff)\n"
   ]
  },
  {
   "cell_type": "code",
   "execution_count": 313,
   "metadata": {},
   "outputs": [
    {
     "data": {
      "text/plain": [
       "[0.23007219939039258,\n",
       " 0.37606827904477885,\n",
       " 0.49910527471778043,\n",
       " 0.49391637156757456,\n",
       " 0.4797098426693251,\n",
       " 0.47681693644266926,\n",
       " 0.47074545846164784,\n",
       " 0.4661217112670198,\n",
       " 0.46341348951630335,\n",
       " 0.4634391485798828,\n",
       " 0.4529892897189358,\n",
       " 0.4524960224732835,\n",
       " 0.4509053581061142,\n",
       " 0.4554906548316339,\n",
       " 0.4515759374199837,\n",
       " 0.44789267503177405,\n",
       " 0.4425273023174267,\n",
       " 0.43396965195612924,\n",
       " 0.4298178812542626,\n",
       " 0.4291700836921396]"
      ]
     },
     "execution_count": 313,
     "metadata": {},
     "output_type": "execute_result"
    }
   ],
   "source": [
    "base_diffs"
   ]
  },
  {
   "cell_type": "code",
   "execution_count": 314,
   "metadata": {
    "scrolled": true
   },
   "outputs": [
    {
     "data": {
      "text/plain": [
       "<matplotlib.axes._subplots.AxesSubplot at 0x7f634e6aacc0>"
      ]
     },
     "execution_count": 314,
     "metadata": {},
     "output_type": "execute_result"
    },
    {
     "data": {
      "image/png": "[encoded data removed]",
      "text/plain": [
       "<Figure size 432x288 with 1 Axes>"
      ]
     },
     "metadata": {
      "needs_background": "light"
     },
     "output_type": "display_data"
    }
   ],
   "source": [
    "sns.lineplot(x=n_features[1:], y=base_diffs)\n",
    "sns.lineplot(x=n_features[1:], y=poly_diffs)"
   ]
  },
  {
   "cell_type": "markdown",
   "metadata": {},
   "source": [
    "#### Skewed distribution"
   ]
  },
  {
   "cell_type": "code",
   "execution_count": 255,
   "metadata": {},
   "outputs": [
    {
     "name": "stdout",
     "output_type": "stream",
     "text": [
      "Degree: 1\n",
      "100\n",
      "200\n",
      "300\n",
      "400\n",
      "500\n",
      "600\n",
      "700\n",
      "800\n",
      "900\n",
      "1000\n",
      "1100\n",
      "1200\n",
      "1300\n",
      "1400\n",
      "1500\n",
      "1600\n",
      "1700\n",
      "1800\n",
      "1900\n",
      "2000\n",
      "Degree: 2\n",
      "5050\n",
      "20100\n",
      "45150\n",
      "80200\n",
      "125250\n",
      "180300\n",
      "245350\n",
      "320400\n",
      "405450\n",
      "500500\n",
      "605550\n",
      "720600\n",
      "845650\n",
      "980700\n",
      "1125750\n",
      "1280800\n",
      "1445850\n",
      "1620900\n",
      "1805950\n",
      "2001000\n"
     ]
    }
   ],
   "source": [
    "n_train = 500\n",
    "n_test = 500\n",
    "random_state = 3\n",
    "n_features = list(np.arange(0, 2001, 100))\n",
    "p = 0.8\n",
    "\n",
    "skew_models = []\n",
    "\n",
    "skew_train_accs = []\n",
    "skew_test_accs = []\n",
    "\n",
    "skew_train_probas = []\n",
    "skew_test_probas = []\n",
    "\n",
    "for deg in [1,2]:\n",
    "    print(\"Degree: {}\".format(deg))\n",
    "    lr_models = []\n",
    "\n",
    "    train_acc = []\n",
    "    test_acc = []\n",
    "\n",
    "    train_proba = []\n",
    "    test_proba = []\n",
    "    for n_feat in n_features[1:]:\n",
    "\n",
    "        train_X, train_y, \\\n",
    "        test_X, test_y = generate_noise_class_data(n_train,\n",
    "                                                   n_test,\n",
    "                                                   n_feat,\n",
    "                                                   p=p,\n",
    "                                                   random_state=random_state)\n",
    "\n",
    "        lr_features = PolynomialFeatures(degree=deg, \n",
    "                                           include_bias=False,\n",
    "                                           interaction_only=True)\n",
    "        lr_pipeline = LogisticRegression(solver='lbfgs', \n",
    "                                      penalty='none', \n",
    "                                      #C=1000,\n",
    "                                      random_state=random_state,\n",
    "                                      n_jobs=-1)\n",
    "        lr_pipeline = Pipeline([(\"polynomial_features\", lr_features),\n",
    "                               (\"logistic_regression\", lr_pipeline)])\n",
    "\n",
    "        lr_pipeline.fit(train_X.copy(), train_y.copy())\n",
    "\n",
    "        lr_models.append(lr_pipeline)\n",
    "\n",
    "        train_acc.append(accuracy_score(train_y, lr_pipeline.predict(train_X)))\n",
    "        train_proba.append(lr_pipeline.predict_proba(train_X)[:, 1])\n",
    "\n",
    "        test_acc.append(accuracy_score(test_y, lr_pipeline.predict(test_X)))\n",
    "        test_proba.append(lr_pipeline.predict_proba(test_X)[:, 1])\n",
    "\n",
    "        print(lr_pipeline['polynomial_features'].n_output_features_)\n",
    "        \n",
    "    skew_models.append(lr_models)\n",
    "    skew_train_accs.append(train_acc)\n",
    "    skew_test_accs.append(test_acc)\n",
    "    skew_train_probas.append(train_proba)\n",
    "    skew_test_probas.append(test_proba)"
   ]
  },
  {
   "cell_type": "code",
   "execution_count": 257,
   "metadata": {},
   "outputs": [
    {
     "name": "stdout",
     "output_type": "stream",
     "text": [
      "[0.858, 1.0, 1.0, 1.0, 1.0, 1.0, 1.0, 1.0, 1.0, 1.0, 1.0, 1.0, 1.0, 1.0, 1.0, 1.0, 1.0, 1.0, 1.0, 1.0]\n"
     ]
    }
   ],
   "source": [
    "print(skew_train_accs[0])"
   ]
  },
  {
   "cell_type": "code",
   "execution_count": 258,
   "metadata": {},
   "outputs": [
    {
     "name": "stdout",
     "output_type": "stream",
     "text": [
      "[1.0, 1.0, 1.0, 1.0, 1.0, 1.0, 1.0, 1.0, 1.0, 1.0, 1.0, 1.0, 1.0, 1.0, 1.0, 1.0, 1.0, 1.0, 1.0, 1.0]\n"
     ]
    }
   ],
   "source": [
    "print(skew_train_accs[1])"
   ]
  },
  {
   "cell_type": "code",
   "execution_count": 261,
   "metadata": {},
   "outputs": [
    {
     "data": {
      "text/plain": [
       "<matplotlib.axes._subplots.AxesSubplot at 0x7f6378a8a6a0>"
      ]
     },
     "execution_count": 261,
     "metadata": {},
     "output_type": "execute_result"
    },
    {
     "data": {
      "image/png": "[encoded data removed]",
      "text/plain": [
       "<Figure size 432x288 with 1 Axes>"
      ]
     },
     "metadata": {
      "needs_background": "light"
     },
     "output_type": "display_data"
    }
   ],
   "source": [
    "sns.distplot(skew_train_probas[1][19])"
   ]
  },
  {
   "cell_type": "code",
   "execution_count": 282,
   "metadata": {
    "scrolled": true
   },
   "outputs": [
    {
     "name": "stdout",
     "output_type": "stream",
     "text": [
      "[0.686, 0.648, 0.622, 0.632, 0.628, 0.6, 0.602, 0.536, 0.584, 0.586, 0.576, 0.572, 0.564, 0.556, 0.592, 0.548, 0.558, 0.568, 0.576, 0.55]\n"
     ]
    }
   ],
   "source": [
    "print(skew_test_accs[0])"
   ]
  },
  {
   "cell_type": "code",
   "execution_count": 283,
   "metadata": {},
   "outputs": [
    {
     "name": "stdout",
     "output_type": "stream",
     "text": [
      "[0.546, 0.496, 0.548, 0.464, 0.474, 0.464, 0.486, 0.506, 0.502, 0.504, 0.508, 0.524, 0.522, 0.5, 0.522, 0.492, 0.508, 0.498, 0.554, 0.48]\n"
     ]
    }
   ],
   "source": [
    "print(skew_test_accs[1])"
   ]
  },
  {
   "cell_type": "code",
   "execution_count": 281,
   "metadata": {},
   "outputs": [
    {
     "data": {
      "text/plain": [
       "<matplotlib.axes._subplots.AxesSubplot at 0x7f634e8860b8>"
      ]
     },
     "execution_count": 281,
     "metadata": {},
     "output_type": "execute_result"
    },
    {
     "data": {
      "image/png": "[encoded data removed]",
      "text/plain": [
       "<Figure size 432x288 with 1 Axes>"
      ]
     },
     "metadata": {
      "needs_background": "light"
     },
     "output_type": "display_data"
    }
   ],
   "source": [
    "sns.distplot(skew_test_probas[0][15], bins=np.arange(0,1.1, 0.05))"
   ]
  },
  {
   "cell_type": "code",
   "execution_count": 340,
   "metadata": {},
   "outputs": [],
   "source": [
    "# save models, predictions\n",
    "pickle.dump(skew_models, open(\"../pkl/noise_class_skew_models.pkl\", \"wb\"), -1)\n",
    "pickle.dump(skew_train_accs, open(\"../pkl/noise_class_skew_train_acc.pkl\", \"wb\"), -1)\n",
    "pickle.dump(skew_test_accs, open(\"../pkl/noise_class_skew_test_acc.pkl\", \"wb\"), -1)\n",
    "\n",
    "pickle.dump(skew_train_probas, open(\"../pkl/noise_class_skew_train_proba.pkl\", \"wb\"), -1)\n",
    "pickle.dump(skew_test_probas, open(\"../pkl/noise_class_skew_test_proba.pkl\", \"wb\"), -1)"
   ]
  },
  {
   "cell_type": "code",
   "execution_count": 338,
   "metadata": {},
   "outputs": [],
   "source": [
    "skew_base_diffs = []\n",
    "skew_poly_diffs = []\n",
    "p = 0.5\n",
    "for idx in range(len(n_features[1:])):\n",
    "    skew_base_diff = np.mean(np.abs(p - skew_test_probas[0][idx]))\n",
    "    skew_poly_diff = np.mean(np.abs(p - skew_test_probas[1][idx]))\n",
    "\n",
    "    skew_base_diffs.append(skew_base_diff)\n",
    "    skew_poly_diffs.append(skew_poly_diff)\n"
   ]
  },
  {
   "cell_type": "code",
   "execution_count": 339,
   "metadata": {},
   "outputs": [
    {
     "data": {
      "text/plain": [
       "<matplotlib.axes._subplots.AxesSubplot at 0x7f634e101128>"
      ]
     },
     "execution_count": 339,
     "metadata": {},
     "output_type": "execute_result"
    },
    {
     "data": {
      "image/png": "[encoded data removed]",
      "text/plain": [
       "<Figure size 432x288 with 1 Axes>"
      ]
     },
     "metadata": {
      "needs_background": "light"
     },
     "output_type": "display_data"
    }
   ],
   "source": [
    "sns.lineplot(x=n_features[1:], y=skew_base_diffs, label='base')\n",
    "sns.lineplot(x=n_features[1:], y=skew_poly_diffs, label='poly')"
   ]
  },
  {
   "cell_type": "markdown",
   "metadata": {},
   "source": [
    "### Regression Sandbox"
   ]
  },
  {
   "cell_type": "code",
   "execution_count": 49,
   "metadata": {},
   "outputs": [
    {
     "name": "stdout",
     "output_type": "stream",
     "text": [
      "100\n",
      "200\n",
      "300\n",
      "400\n",
      "500\n",
      "600\n",
      "700\n",
      "800\n",
      "900\n",
      "1000\n",
      "1100\n",
      "1200\n",
      "1300\n",
      "1400\n",
      "1500\n",
      "1600\n",
      "1700\n",
      "1800\n",
      "1900\n",
      "2000\n",
      "2100\n",
      "2200\n",
      "2300\n",
      "2400\n",
      "2500\n",
      "2600\n",
      "2700\n",
      "2800\n",
      "2900\n",
      "3000\n",
      "3100\n",
      "3200\n",
      "3300\n",
      "3400\n",
      "3500\n",
      "3600\n",
      "3700\n",
      "3800\n",
      "3900\n",
      "4000\n"
     ]
    }
   ],
   "source": [
    "n_train = 500\n",
    "n_test = 500\n",
    "random_state = 3\n",
    "n_features = list(np.arange(100, 4001, 100))\n",
    "\n",
    "std_dict = {}\n",
    "train_mse_dict = {}\n",
    "test_mse_dict = {}\n",
    "models_dict = {}\n",
    "\n",
    "for deg in [1]:\n",
    "    stds = []\n",
    "    train_mse = []\n",
    "    test_mse = []\n",
    "    reg_models = []\n",
    "    for n_feat in n_features:\n",
    "        train_X, train_y, \\\n",
    "        test_X, test_y = generate_noise_reg_data(n_train, \n",
    "                                                 n_test, \n",
    "                                                 n_feat,\n",
    "                                                 mu = 1,\n",
    "                                                 random_state=random_state)\n",
    "#         train_y = np.ones(n_train)\n",
    "#         test_y = np.ones(n_test)\n",
    "        reg_features = PolynomialFeatures(degree=deg, \n",
    "                                           include_bias=False,\n",
    "                                           interaction_only=True)\n",
    "        \n",
    "        reg_pipeline = LinearRegression(n_jobs=-1, fit_intercept=False)\n",
    "        reg_pipeline = Pipeline([(\"polynomial_features\", reg_features),\n",
    "                               (\"linear_regression\", reg_pipeline)])\n",
    "\n",
    "        reg_pipeline.fit(train_X.copy(), train_y.copy())\n",
    "\n",
    "        reg_models.append(reg_pipeline)\n",
    "\n",
    "        preds = reg_pipeline.predict(test_X)\n",
    "        stds.append(np.std(preds))\n",
    "        train_mse.append(mean_squared_error(train_y, reg_pipeline.predict(train_X)))\n",
    "        test_mse.append(mean_squared_error(test_y, preds))\n",
    "        print(reg_features.n_output_features_)\n",
    "    std_dict[deg] = stds\n",
    "    train_mse_dict[deg] = train_mse\n",
    "    test_mse_dict[deg] = test_mse\n",
    "    models_dict[deg] = reg_models"
   ]
  },
  {
   "cell_type": "code",
   "execution_count": 52,
   "metadata": {},
   "outputs": [
    {
     "name": "stdout",
     "output_type": "stream",
     "text": [
      "0.0\n",
      "0.0\n",
      "0.0\n",
      "0.0\n",
      "0.0\n",
      "0.0\n",
      "0.0\n",
      "0.0\n",
      "0.0\n",
      "0.0\n",
      "0.0\n",
      "0.0\n",
      "0.0\n",
      "0.0\n",
      "0.0\n",
      "0.0\n",
      "0.0\n",
      "0.0\n",
      "0.0\n",
      "0.0\n",
      "0.0\n",
      "0.0\n",
      "0.0\n",
      "0.0\n",
      "0.0\n",
      "0.0\n",
      "0.0\n",
      "0.0\n",
      "0.0\n",
      "0.0\n",
      "0.0\n",
      "0.0\n",
      "0.0\n",
      "0.0\n",
      "0.0\n",
      "0.0\n",
      "0.0\n",
      "0.0\n",
      "0.0\n",
      "0.0\n"
     ]
    }
   ],
   "source": [
    "for model in models_dict[1]:\n",
    "    print(np.sum(np.abs(model['linear_regression'].intercept_)))"
   ]
  },
  {
   "cell_type": "code",
   "execution_count": 51,
   "metadata": {
    "scrolled": true
   },
   "outputs": [
    {
     "data": {
      "text/plain": [
       "[0.47078992418290927,\n",
       " 0.8210684753016981,\n",
       " 1.28272178752424,\n",
       " 2.1735327535273146,\n",
       " 15.071339441891173,\n",
       " 2.396598810245945,\n",
       " 1.4806559133387924,\n",
       " 1.4867747195652348,\n",
       " 1.1622961624230086,\n",
       " 1.013873585361089,\n",
       " 0.8484012883813465,\n",
       " 0.8186845653664377,\n",
       " 0.7550293626358615,\n",
       " 0.6914378196828718,\n",
       " 0.7201650546988976,\n",
       " 0.6790803180074465,\n",
       " 0.6585850602093858,\n",
       " 0.5801422790388014,\n",
       " 0.6116425498767513,\n",
       " 0.5876918304908643,\n",
       " 0.6117932214749426,\n",
       " 0.5726976151231014,\n",
       " 0.5120883090793056,\n",
       " 0.5175859120232363,\n",
       " 0.5083715926629311,\n",
       " 0.48808041808135605,\n",
       " 0.4992995451824029,\n",
       " 0.5049772347583772,\n",
       " 0.44463114456498504,\n",
       " 0.45511812999235507,\n",
       " 0.4240589231428479,\n",
       " 0.4141138963215847,\n",
       " 0.4304264290944036,\n",
       " 0.41368636850917395,\n",
       " 0.4037240194904996,\n",
       " 0.40033051840182543,\n",
       " 0.4079526265447674,\n",
       " 0.36355021437278323,\n",
       " 0.3660467474862092,\n",
       " 0.3868788921679753]"
      ]
     },
     "execution_count": 51,
     "metadata": {},
     "output_type": "execute_result"
    }
   ],
   "source": [
    "std_dict[1]"
   ]
  },
  {
   "cell_type": "code",
   "execution_count": 5,
   "metadata": {},
   "outputs": [
    {
     "data": {
      "text/plain": [
       "LinearRegression(copy_X=True, fit_intercept=True, n_jobs=None, normalize=False)"
      ]
     },
     "execution_count": 5,
     "metadata": {},
     "output_type": "execute_result"
    }
   ],
   "source": [
    "reg_model = LinearRegression()\n",
    "reg_model.fit(train_X, train_y)"
   ]
  },
  {
   "cell_type": "code",
   "execution_count": 6,
   "metadata": {
    "scrolled": true
   },
   "outputs": [
    {
     "data": {
      "text/plain": [
       "1.0086751163649135"
      ]
     },
     "execution_count": 6,
     "metadata": {},
     "output_type": "execute_result"
    }
   ],
   "source": [
    "np.std(reg_model.predict(test_X))"
   ]
  },
  {
   "cell_type": "code",
   "execution_count": 24,
   "metadata": {},
   "outputs": [
    {
     "name": "stdout",
     "output_type": "stream",
     "text": [
      "0.06393978080985274\n",
      "0.004226636677850504\n",
      "0.05614582769899888\n",
      "0.027769607788856135\n",
      "0.37221084797763665\n",
      "0.15638076354434136\n",
      "0.10419859984084617\n",
      "0.020861475004978272\n",
      "0.04766641843598473\n",
      "0.02662174478594548\n",
      "0.025220464724381688\n",
      "0.02117272830864126\n",
      "0.023283558888409155\n",
      "0.01808188760089669\n",
      "0.0030898909516663808\n",
      "0.0192596084683336\n",
      "0.003674601766817498\n",
      "0.011507777339544967\n",
      "0.006317899014166188\n",
      "0.01031850386421797\n",
      "0.0035501460735705356\n",
      "0.0005229410439247795\n",
      "0.00513254869982516\n",
      "0.012039842019311235\n",
      "0.002248917924032697\n",
      "0.006090555405993507\n",
      "0.00791055041262811\n",
      "0.013015017521079215\n",
      "0.02068033848591575\n",
      "0.0015000449338596622\n",
      "0.008205261221057563\n",
      "0.010755146886884503\n",
      "0.007250616741266234\n",
      "0.005741385909912267\n",
      "0.002942349838190309\n",
      "0.011135384118506385\n",
      "0.001814010849156806\n",
      "0.0029500913119351255\n",
      "0.004987978667962554\n",
      "0.0030740932081226\n"
     ]
    }
   ],
   "source": [
    "for model in models_dict[1]:\n",
    "    print(np.abs(model['linear_regression'].coef_[5]))"
   ]
  },
  {
   "cell_type": "markdown",
   "metadata": {},
   "source": [
    "### Multiple Runs"
   ]
  },
  {
   "cell_type": "code",
   "execution_count": 27,
   "metadata": {
    "scrolled": true
   },
   "outputs": [
    {
     "name": "stdout",
     "output_type": "stream",
     "text": [
      "degree: 1, rand: 0\n",
      "degree: 1, rand: 1\n",
      "degree: 1, rand: 2\n",
      "degree: 1, rand: 3\n",
      "degree: 1, rand: 4\n",
      "degree: 1, rand: 5\n",
      "degree: 1, rand: 6\n",
      "degree: 1, rand: 7\n",
      "degree: 1, rand: 8\n",
      "degree: 1, rand: 9\n",
      "degree: 1, rand: 10\n",
      "degree: 1, rand: 11\n",
      "degree: 1, rand: 12\n",
      "degree: 1, rand: 13\n",
      "degree: 1, rand: 14\n",
      "degree: 1, rand: 15\n",
      "degree: 1, rand: 16\n",
      "degree: 1, rand: 17\n",
      "degree: 1, rand: 18\n",
      "degree: 1, rand: 19\n",
      "degree: 1, rand: 20\n",
      "degree: 1, rand: 21\n",
      "degree: 1, rand: 22\n",
      "degree: 1, rand: 23\n",
      "degree: 1, rand: 24\n",
      "degree: 1, rand: 25\n",
      "degree: 1, rand: 26\n",
      "degree: 1, rand: 27\n",
      "degree: 1, rand: 28\n",
      "degree: 1, rand: 29\n",
      "degree: 1, rand: 30\n",
      "degree: 1, rand: 31\n",
      "degree: 1, rand: 32\n",
      "degree: 1, rand: 33\n",
      "degree: 1, rand: 34\n",
      "degree: 1, rand: 35\n",
      "degree: 1, rand: 36\n",
      "degree: 1, rand: 37\n",
      "degree: 1, rand: 38\n",
      "degree: 1, rand: 39\n",
      "degree: 1, rand: 40\n",
      "degree: 1, rand: 41\n",
      "degree: 1, rand: 42\n",
      "degree: 1, rand: 43\n",
      "degree: 1, rand: 44\n",
      "degree: 1, rand: 45\n",
      "degree: 1, rand: 46\n",
      "degree: 1, rand: 47\n",
      "degree: 1, rand: 48\n",
      "degree: 1, rand: 49\n",
      "degree: 1, rand: 50\n",
      "degree: 1, rand: 51\n",
      "degree: 1, rand: 52\n",
      "degree: 1, rand: 53\n",
      "degree: 1, rand: 54\n",
      "degree: 1, rand: 55\n",
      "degree: 1, rand: 56\n",
      "degree: 1, rand: 57\n",
      "degree: 1, rand: 58\n",
      "degree: 1, rand: 59\n",
      "degree: 1, rand: 60\n",
      "degree: 1, rand: 61\n",
      "degree: 1, rand: 62\n",
      "degree: 1, rand: 63\n",
      "degree: 1, rand: 64\n",
      "degree: 1, rand: 65\n",
      "degree: 1, rand: 66\n",
      "degree: 1, rand: 67\n",
      "degree: 1, rand: 68\n",
      "degree: 1, rand: 69\n",
      "degree: 1, rand: 70\n",
      "degree: 1, rand: 71\n",
      "degree: 1, rand: 72\n",
      "degree: 1, rand: 73\n",
      "degree: 1, rand: 74\n",
      "degree: 1, rand: 75\n",
      "degree: 1, rand: 76\n",
      "degree: 1, rand: 77\n",
      "degree: 1, rand: 78\n",
      "degree: 1, rand: 79\n",
      "degree: 1, rand: 80\n",
      "degree: 1, rand: 81\n",
      "degree: 1, rand: 82\n",
      "degree: 1, rand: 83\n",
      "degree: 1, rand: 84\n",
      "degree: 1, rand: 85\n",
      "degree: 1, rand: 86\n",
      "degree: 1, rand: 87\n",
      "degree: 1, rand: 88\n",
      "degree: 1, rand: 89\n",
      "degree: 1, rand: 90\n",
      "degree: 1, rand: 91\n",
      "degree: 1, rand: 92\n",
      "degree: 1, rand: 93\n",
      "degree: 1, rand: 94\n",
      "degree: 1, rand: 95\n",
      "degree: 1, rand: 96\n",
      "degree: 1, rand: 97\n",
      "degree: 1, rand: 98\n",
      "degree: 1, rand: 99\n"
     ]
    }
   ],
   "source": [
    "n_train = 500\n",
    "n_test = 500\n",
    "random_states = np.arange(0,100)\n",
    "n_features = 100\n",
    "\n",
    "run_std_dict = {}\n",
    "run_train_mse_dict = {}\n",
    "run_test_mse_dict = {}\n",
    "run_models_dict = {}\n",
    "\n",
    "for deg in [1]:\n",
    "    stds = []\n",
    "    train_mse = []\n",
    "    test_mse = []\n",
    "    reg_models = []\n",
    "    for random_state in random_states:\n",
    "        train_X, train_y, \\\n",
    "        test_X, test_y = generate_noise_reg_data(n_train, \n",
    "                                                 n_test, \n",
    "                                                 n_features, \n",
    "                                                 random_state=random_state)\n",
    "        reg_features = PolynomialFeatures(degree=deg, \n",
    "                                           include_bias=False,\n",
    "                                           interaction_only=True)\n",
    "        reg_pipeline = LinearRegression(n_jobs=-1)\n",
    "        reg_pipeline = Pipeline([(\"polynomial_features\", reg_features),\n",
    "                               (\"linear_regression\", reg_pipeline)])\n",
    "\n",
    "        reg_pipeline.fit(train_X.copy(), train_y.copy())\n",
    "\n",
    "        reg_models.append(reg_pipeline)\n",
    "        stds.append(np.std(preds))\n",
    "        train_mse.append(mean_squared_error(train_y, reg_pipeline.predict(train_X)))\n",
    "        test_mse.append(mean_squared_error(test_y, preds))\n",
    "        print(\"degree: {}, rand: {}\".format(deg, random_state))\n",
    "    run_std_dict[deg] = stds\n",
    "    run_train_mse_dict[deg] = train_mse\n",
    "    run_test_mse_dict[deg] = test_mse\n",
    "    run_models_dict[deg] = reg_models\n"
   ]
  },
  {
   "cell_type": "code",
   "execution_count": 38,
   "metadata": {},
   "outputs": [
    {
     "data": {
      "text/plain": [
       "0.06491727058472843"
      ]
     },
     "execution_count": 38,
     "metadata": {},
     "output_type": "execute_result"
    }
   ],
   "source": [
    "coefs = []\n",
    "for model in models_dict[1]:\n",
    "    \n",
    "    for i in range(500):\n",
    "    coefs.append(model['linear_regression'].coef_[10])\n",
    "print(np.std(coefs))\n",
    "print(np.st)"
   ]
  },
  {
   "cell_type": "code",
   "execution_count": 43,
   "metadata": {},
   "outputs": [],
   "source": [
    "n = 500\n",
    "n_trials = 200\n",
    "dets = []\n",
    "for p in range(1, 100):\n",
    "    trial_det = []\n",
    "    for i in range(n_trials):\n",
    "        X = np.random.multivariate_normal(np.zeros((p)), \n",
    "                                          cov=np.eye(p),\n",
    "                                          size=n)\n",
    "\n",
    "        det = np.linalg.det(np.matmul(np.transpose(X), X))\n",
    "        #ss = np.linalg.inv(np.matmul(np.transpose(X), X))\n",
    "        trial_det.append(det)\n",
    "    dets.append(trial_det)"
   ]
  },
  {
   "cell_type": "code",
   "execution_count": 57,
   "metadata": {},
   "outputs": [
    {
     "data": {
      "text/plain": [
       "array([[4., 4.],\n",
       "       [4., 4.]])"
      ]
     },
     "execution_count": 57,
     "metadata": {},
     "output_type": "execute_result"
    }
   ],
   "source": [
    "np.ones((2,2)) * 4"
   ]
  },
  {
   "cell_type": "code",
   "execution_count": 68,
   "metadata": {},
   "outputs": [
    {
     "data": {
      "text/plain": [
       "array([[4., 2.],\n",
       "       [2., 4.]])"
      ]
     },
     "execution_count": 68,
     "metadata": {},
     "output_type": "execute_result"
    }
   ],
   "source": [
    "np.ones((2,2))*2 + np.diag([2,2])"
   ]
  },
  {
   "cell_type": "code",
   "execution_count": 85,
   "metadata": {},
   "outputs": [
    {
     "name": "stdout",
     "output_type": "stream",
     "text": [
      "[[4. 2. 2. 2. 2.]\n",
      " [2. 4. 2. 2. 2.]\n",
      " [2. 2. 4. 2. 2.]\n",
      " [2. 2. 2. 4. 2.]\n",
      " [2. 2. 2. 2. 4.]]\n"
     ]
    },
    {
     "data": {
      "text/plain": [
       "array([[ 0.41666667, -0.08333333, -0.08333333, -0.08333333, -0.08333333],\n",
       "       [-0.08333333,  0.41666667, -0.08333333, -0.08333333, -0.08333333],\n",
       "       [-0.08333333, -0.08333333,  0.41666667, -0.08333333, -0.08333333],\n",
       "       [-0.08333333, -0.08333333, -0.08333333,  0.41666667, -0.08333333],\n",
       "       [-0.08333333, -0.08333333, -0.08333333, -0.08333333,  0.41666667]])"
      ]
     },
     "execution_count": 85,
     "metadata": {},
     "output_type": "execute_result"
    }
   ],
   "source": [
    "n = 2\n",
    "mat = np.ones((5,5))*2 + np.diag([2,2,2,2,2])\n",
    "print(mat)\n",
    "np.linalg.inv(mat)"
   ]
  },
  {
   "cell_type": "code",
   "execution_count": 86,
   "metadata": {},
   "outputs": [],
   "source": [
    "mat2 = np.matmul(mat, mat)"
   ]
  },
  {
   "cell_type": "code",
   "execution_count": 87,
   "metadata": {},
   "outputs": [
    {
     "data": {
      "text/plain": [
       "array([[32., 28., 28., 28., 28.],\n",
       "       [28., 32., 28., 28., 28.],\n",
       "       [28., 28., 32., 28., 28.],\n",
       "       [28., 28., 28., 32., 28.],\n",
       "       [28., 28., 28., 28., 32.]])"
      ]
     },
     "execution_count": 87,
     "metadata": {},
     "output_type": "execute_result"
    }
   ],
   "source": [
    "mat2"
   ]
  },
  {
   "cell_type": "code",
   "execution_count": 88,
   "metadata": {
    "scrolled": true
   },
   "outputs": [
    {
     "data": {
      "text/plain": [
       "array([[ 0.20138889, -0.04861111, -0.04861111, -0.04861111, -0.04861111],\n",
       "       [-0.04861111,  0.20138889, -0.04861111, -0.04861111, -0.04861111],\n",
       "       [-0.04861111, -0.04861111,  0.20138889, -0.04861111, -0.04861111],\n",
       "       [-0.04861111, -0.04861111, -0.04861111,  0.20138889, -0.04861111],\n",
       "       [-0.04861111, -0.04861111, -0.04861111, -0.04861111,  0.20138889]])"
      ]
     },
     "execution_count": 88,
     "metadata": {},
     "output_type": "execute_result"
    }
   ],
   "source": [
    "np.linalg.inv(mat2)"
   ]
  },
  {
   "cell_type": "code",
   "execution_count": 101,
   "metadata": {
    "scrolled": true
   },
   "outputs": [
    {
     "data": {
      "text/plain": [
       "0.047619047619047616"
      ]
     },
     "execution_count": 101,
     "metadata": {},
     "output_type": "execute_result"
    }
   ],
   "source": [
    "2/42\n"
   ]
  },
  {
   "cell_type": "code",
   "execution_count": 75,
   "metadata": {},
   "outputs": [
    {
     "data": {
      "text/plain": [
       "0.016"
      ]
     },
     "execution_count": 75,
     "metadata": {},
     "output_type": "execute_result"
    }
   ],
   "source": [
    "4/250"
   ]
  },
  {
   "cell_type": "code",
   "execution_count": 105,
   "metadata": {
    "scrolled": false
   },
   "outputs": [
    {
     "name": "stdout",
     "output_type": "stream",
     "text": [
      "n: 2, p: 2, inv_m2 diag: 0.1388888888888889 inv_m2 off: -0.11111111111111112\n",
      "n: 2, p: 3, inv_m2 diag: 0.17187499999999997 inv_m2 off: -0.07812499999999996\n",
      "n: 2, p: 4, inv_m2 diag: 0.18999999999999995 inv_m2 off: -0.059999999999999984\n",
      "n: 2, p: 5, inv_m2 diag: 0.20138888888888892 inv_m2 off: -0.04861111111111108\n",
      "n: 2, p: 6, inv_m2 diag: 0.20918367346938768 inv_m2 off: -0.04081632653061224\n",
      "n: 2, p: 7, inv_m2 diag: 0.21484375000000006 inv_m2 off: -0.035156250000000014\n",
      "n: 2, p: 8, inv_m2 diag: 0.21913580246913594 inv_m2 off: -0.030864197530864224\n",
      "n: 2, p: 9, inv_m2 diag: 0.22249999999999992 inv_m2 off: -0.02749999999999997\n",
      "n: 3, p: 2, inv_m2 diag: 0.061728395061728406 inv_m2 off: -0.04938271604938272\n",
      "n: 3, p: 3, inv_m2 diag: 0.07638888888888887 inv_m2 off: -0.03472222222222222\n",
      "n: 3, p: 4, inv_m2 diag: 0.08444444444444442 inv_m2 off: -0.02666666666666667\n",
      "n: 3, p: 5, inv_m2 diag: 0.08950617283950617 inv_m2 off: -0.021604938271604927\n",
      "n: 3, p: 6, inv_m2 diag: 0.09297052154195008 inv_m2 off: -0.01814058956916099\n",
      "n: 3, p: 7, inv_m2 diag: 0.0954861111111111 inv_m2 off: -0.015624999999999983\n",
      "n: 3, p: 8, inv_m2 diag: 0.09739368998628264 inv_m2 off: -0.013717421124828552\n",
      "n: 3, p: 9, inv_m2 diag: 0.09888888888888886 inv_m2 off: -0.012222222222222188\n",
      "n: 4, p: 2, inv_m2 diag: 0.034722222222222224 inv_m2 off: -0.02777777777777778\n",
      "n: 4, p: 3, inv_m2 diag: 0.04296874999999999 inv_m2 off: -0.01953124999999999\n",
      "n: 4, p: 4, inv_m2 diag: 0.04749999999999999 inv_m2 off: -0.014999999999999996\n",
      "n: 4, p: 5, inv_m2 diag: 0.05034722222222223 inv_m2 off: -0.01215277777777777\n",
      "n: 4, p: 6, inv_m2 diag: 0.05229591836734692 inv_m2 off: -0.01020408163265306\n",
      "n: 4, p: 7, inv_m2 diag: 0.053710937500000014 inv_m2 off: -0.008789062500000003\n",
      "n: 4, p: 8, inv_m2 diag: 0.054783950617283986 inv_m2 off: -0.007716049382716056\n",
      "n: 4, p: 9, inv_m2 diag: 0.05562499999999998 inv_m2 off: -0.006874999999999992\n",
      "n: 5, p: 2, inv_m2 diag: 0.022222222222222227 inv_m2 off: -0.01777777777777778\n",
      "n: 5, p: 3, inv_m2 diag: 0.027500000000000007 inv_m2 off: -0.0125\n",
      "n: 5, p: 4, inv_m2 diag: 0.030399999999999993 inv_m2 off: -0.0096\n",
      "n: 5, p: 5, inv_m2 diag: 0.03222222222222222 inv_m2 off: -0.007777777777777775\n",
      "n: 5, p: 6, inv_m2 diag: 0.03346938775510203 inv_m2 off: -0.006530612244897963\n",
      "n: 5, p: 7, inv_m2 diag: 0.03437500000000001 inv_m2 off: -0.005624999999999996\n",
      "n: 5, p: 8, inv_m2 diag: 0.03506172839506172 inv_m2 off: -0.004938271604938264\n",
      "n: 5, p: 9, inv_m2 diag: 0.03560000000000003 inv_m2 off: -0.004400000000000008\n",
      "n: 6, p: 2, inv_m2 diag: 0.015432098765432101 inv_m2 off: -0.01234567901234568\n",
      "n: 6, p: 3, inv_m2 diag: 0.019097222222222217 inv_m2 off: -0.008680555555555554\n",
      "n: 6, p: 4, inv_m2 diag: 0.021111111111111105 inv_m2 off: -0.006666666666666667\n",
      "n: 6, p: 5, inv_m2 diag: 0.022376543209876542 inv_m2 off: -0.005401234567901232\n",
      "n: 6, p: 6, inv_m2 diag: 0.02324263038548752 inv_m2 off: -0.004535147392290248\n",
      "n: 6, p: 7, inv_m2 diag: 0.023871527777777776 inv_m2 off: -0.0039062499999999957\n",
      "n: 6, p: 8, inv_m2 diag: 0.02434842249657066 inv_m2 off: -0.003429355281207138\n",
      "n: 6, p: 9, inv_m2 diag: 0.024722222222222215 inv_m2 off: -0.003055555555555547\n",
      "n: 7, p: 2, inv_m2 diag: 0.011337868480725625 inv_m2 off: -0.009070294784580499\n",
      "n: 7, p: 3, inv_m2 diag: 0.014030612244897956 inv_m2 off: -0.00637755102040816\n",
      "n: 7, p: 4, inv_m2 diag: 0.015510204081632648 inv_m2 off: -0.004897959183673466\n",
      "n: 7, p: 5, inv_m2 diag: 0.016439909297052142 inv_m2 off: -0.003968253968253965\n",
      "n: 7, p: 6, inv_m2 diag: 0.017076218242399008 inv_m2 off: -0.003331945022907125\n",
      "n: 7, p: 7, inv_m2 diag: 0.01753826530612247 inv_m2 off: -0.002869897959183679\n",
      "n: 7, p: 8, inv_m2 diag: 0.017888636936255975 inv_m2 off: -0.0025195263290501337\n",
      "n: 7, p: 9, inv_m2 diag: 0.01816326530612244 inv_m2 off: -0.0022448979591836666\n",
      "n: 8, p: 2, inv_m2 diag: 0.008680555555555556 inv_m2 off: -0.006944444444444445\n",
      "n: 8, p: 3, inv_m2 diag: 0.010742187499999998 inv_m2 off: -0.004882812499999997\n",
      "n: 8, p: 4, inv_m2 diag: 0.011874999999999997 inv_m2 off: -0.003749999999999999\n",
      "n: 8, p: 5, inv_m2 diag: 0.012586805555555558 inv_m2 off: -0.0030381944444444423\n",
      "n: 8, p: 6, inv_m2 diag: 0.01307397959183673 inv_m2 off: -0.002551020408163265\n",
      "n: 8, p: 7, inv_m2 diag: 0.013427734375000003 inv_m2 off: -0.002197265625000001\n",
      "n: 8, p: 8, inv_m2 diag: 0.013695987654320996 inv_m2 off: -0.001929012345679014\n",
      "n: 8, p: 9, inv_m2 diag: 0.013906249999999995 inv_m2 off: -0.001718749999999998\n",
      "n: 9, p: 2, inv_m2 diag: 0.006858710562414267 inv_m2 off: -0.005486968449931413\n",
      "n: 9, p: 3, inv_m2 diag: 0.008487654320987656 inv_m2 off: -0.0038580246913580253\n",
      "n: 9, p: 4, inv_m2 diag: 0.009382716049382714 inv_m2 off: -0.0029629629629629632\n",
      "n: 9, p: 5, inv_m2 diag: 0.009945130315500686 inv_m2 off: -0.002400548696844991\n",
      "n: 9, p: 6, inv_m2 diag: 0.010330057949105565 inv_m2 off: -0.002015621063240112\n",
      "n: 9, p: 7, inv_m2 diag: 0.01060956790123457 inv_m2 off: -0.0017361111111111086\n",
      "n: 9, p: 8, inv_m2 diag: 0.01082152110958696 inv_m2 off: -0.001524157902758729\n",
      "n: 9, p: 9, inv_m2 diag: 0.010987654320987663 inv_m2 off: -0.001358024691358026\n"
     ]
    }
   ],
   "source": [
    "for n in range(2, 10):\n",
    "    for p in range(2, 10):\n",
    "        diag = [n] * p\n",
    "        mat = np.ones((p,p))*n + np.diag(diag)\n",
    "        mat2 = np.matmul(mat, mat)\n",
    "        inv_mat = np.linalg.inv(mat2)\n",
    "        \n",
    "        #print(\"n: {}, p: {}, m1 diag: {} m1 off: {}\".format(n, p, mat[0,0], mat[0,1]))\n",
    "        #print(\"n: {}, p: {}, m2 diag: {} m2 off: {}\".format(n, p, mat2[0,0], mat2[0,1]))\n",
    "        print(\"n: {}, p: {}, inv_m2 diag: {} inv_m2 off: {}\".format(n, p, inv_mat[0,0], inv_mat[0,1]))"
   ]
  },
  {
   "cell_type": "markdown",
   "metadata": {
    "heading_collapsed": true
   },
   "source": [
    "### Notes"
   ]
  },
  {
   "cell_type": "markdown",
   "metadata": {
    "hidden": true
   },
   "source": [
    "- for polynomial features, as the number of terms increases the mass around 0.5 increases\n",
    "- how to quantify the differences between \"properly fit\" models and \"overfit\" models?\n",
    "- need some measure of the optimal performance\n",
    "- look into Bayes optimality for classification?\n",
    "\n",
    "\n",
    "#### TODOs\n",
    "\n",
    "- run this experiment against different label splits"
   ]
  }
 ],
 "metadata": {
  "hide_input": false,
  "kernelspec": {
   "display_name": "Python 3",
   "language": "python",
   "name": "python3"
  },
  "language_info": {
   "codemirror_mode": {
    "name": "ipython",
    "version": 3
   },
   "file_extension": ".py",
   "mimetype": "text/x-python",
   "name": "python",
   "nbconvert_exporter": "python",
   "pygments_lexer": "ipython3",
   "version": "3.7.3"
  }
 },
 "nbformat": 4,
 "nbformat_minor": 2
}
