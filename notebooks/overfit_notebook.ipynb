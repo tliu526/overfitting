{
 "cells": [
  {
   "cell_type": "code",
   "execution_count": 264,
   "metadata": {},
   "outputs": [],
   "source": [
    "%matplotlib inline\n",
    "\n",
    "import pandas\n",
    "import matplotlib.pyplot as plt\n",
    "import seaborn as sns\n",
    "import numpy as np\n",
    "\n",
    "# Scikit imports\n",
    "from sklearn.datasets import make_classification, make_regression\n",
    "from sklearn.pipeline import Pipeline\n",
    "from sklearn.preprocessing import PolynomialFeatures\n",
    "from sklearn.linear_model import LinearRegression, LogisticRegression\n",
    "from sklearn.tree import DecisionTreeRegressor, DecisionTreeClassifier\n",
    "from sklearn.metrics import accuracy_score, mean_squared_error"
   ]
  },
  {
   "cell_type": "markdown",
   "metadata": {},
   "source": [
    "# Overfitting notebook\n",
    "\n",
    "Notebook for overfitting simulation and notes."
   ]
  },
  {
   "cell_type": "markdown",
   "metadata": {},
   "source": [
    "## Classification\n",
    "\n",
    "### `make_classification`\n",
    "\n",
    "- clusters of points normally distributed with $\\sigma=1$ about vertices of an `n_informative`-dimensional hypercube with sides of length 2*`class_sep`\n"
   ]
  },
  {
   "cell_type": "markdown",
   "metadata": {
    "heading_collapsed": true
   },
   "source": [
    "### Sandbox"
   ]
  },
  {
   "cell_type": "markdown",
   "metadata": {
    "heading_collapsed": true,
    "hidden": true
   },
   "source": [
    "#### Polynomial Logistic Regression"
   ]
  },
  {
   "cell_type": "code",
   "execution_count": 91,
   "metadata": {
    "hidden": true
   },
   "outputs": [],
   "source": [
    "# features\n",
    "n_informative = 4\n",
    "n_redundant = 0\n",
    "n_total_feats = 20\n",
    "\n",
    "# samples\n",
    "n_train = 1000\n",
    "n_test = 500\n",
    "\n",
    "# class parameters\n",
    "n_classes = 2\n",
    "weights = None#[.2, .8] # defaults to 50/50 split\n",
    "\n",
    "# output params\n",
    "shuffle = True\n",
    "random_state = 0\n",
    "class_sep = 1\n",
    "n_clusters_per_class = 4\n",
    "\n",
    "X, y = make_classification(\n",
    "                            n_samples = n_train + n_test,\n",
    "                            n_features = n_total_feats,\n",
    "                            n_informative = n_informative,\n",
    "                            n_redundant = n_redundant,\n",
    "                            n_classes = n_classes,\n",
    "                            weights = weights,\n",
    "                            shuffle = shuffle,\n",
    "                            random_state = random_state,\n",
    "                            class_sep = class_sep)\n",
    "\n",
    "end_idx_0 = n_train // 2\n",
    "start_idx_1 = (n_train // 2) + (n_test // 2)\n",
    "end_idx_1 = n_train + (n_test // 2)\n",
    "train_data = np.append(X[:end_idx_0, :], X[start_idx_1:end_idx_1, :], 0)\n",
    "train_data = np.c_[train_data, np.append(y[:end_idx_0], y[start_idx_1:end_idx_1])]\n",
    "\n",
    "test_data = np.append(X[end_idx_0:start_idx_1, :], X[end_idx_1:, :], 0)\n",
    "test_data = np.c_[test_data, np.append(y[end_idx_0:start_idx_1], y[end_idx_1:])]\n",
    "\n",
    "train_X = train_data[:, :-1]\n",
    "train_y = train_data[:, -1]\n",
    "\n",
    "test_X = test_data[:, :-1]\n",
    "test_y = test_data[:, -1]"
   ]
  },
  {
   "cell_type": "code",
   "execution_count": 92,
   "metadata": {
    "hidden": true
   },
   "outputs": [
    {
     "name": "stdout",
     "output_type": "stream",
     "text": [
      "500.0\n",
      "249.0\n"
     ]
    }
   ],
   "source": [
    "print(sum(train_y))\n",
    "print(sum(test_y))"
   ]
  },
  {
   "cell_type": "code",
   "execution_count": 93,
   "metadata": {
    "hidden": true
   },
   "outputs": [
    {
     "name": "stdout",
     "output_type": "stream",
     "text": [
      "1\n",
      "2\n",
      "3\n",
      "4\n",
      "5\n",
      "6\n",
      "7\n",
      "8\n",
      "[0.716, 0.724, 0.71, 0.64, 0.656, 0.636, 0.618, 0.606]\n"
     ]
    }
   ],
   "source": [
    "degrees = np.arange(1,9)\n",
    "\n",
    "\n",
    "train_acc = []\n",
    "test_proba = []\n",
    "test_acc = []\n",
    "pipelines = []\n",
    "for deg in degrees:\n",
    "    poly_features = PolynomialFeatures(degree=deg, \n",
    "                                       include_bias=False,\n",
    "                                       interaction_only=True)\n",
    "    lr_model = LogisticRegression(solver='lbfgs', \n",
    "                                  penalty='none', \n",
    "                                  #C=1000,\n",
    "                                  random_state=random_state,\n",
    "                                  n_jobs=-1)\n",
    "    lr_pipeline = Pipeline([(\"polynomial_features\", poly_features),\n",
    "                           (\"logistic_regression\", lr_model)])\n",
    "    \n",
    "    lr_pipeline.fit(train_X.copy(), train_y.copy())\n",
    "    \n",
    "    pipelines.append(lr_pipeline)\n",
    "    \n",
    "    train_acc.append(accuracy_score(train_y, lr_pipeline.predict(train_X)))\n",
    "    test_proba.append(np.mean(lr_pipeline.predict_proba(test_X)[:, 0]))\n",
    "    test_acc.append(accuracy_score(test_y, lr_pipeline.predict(test_X)))\n",
    "    print(deg)\n",
    "    \n",
    "print(test_acc)"
   ]
  },
  {
   "cell_type": "code",
   "execution_count": 94,
   "metadata": {
    "hidden": true,
    "scrolled": true
   },
   "outputs": [
    {
     "data": {
      "text/plain": [
       "[0.715, 0.914, 1.0, 1.0, 1.0, 1.0, 1.0, 1.0]"
      ]
     },
     "execution_count": 94,
     "metadata": {},
     "output_type": "execute_result"
    }
   ],
   "source": [
    "train_acc"
   ]
  },
  {
   "cell_type": "code",
   "execution_count": 95,
   "metadata": {
    "hidden": true,
    "scrolled": true
   },
   "outputs": [
    {
     "data": {
      "text/plain": [
       "[0.4849283679191724,\n",
       " 0.49541346849970264,\n",
       " 0.5062807938941694,\n",
       " 0.47583783890711684,\n",
       " 0.49466349222582257,\n",
       " 0.48819288803171335,\n",
       " 0.48603476663320055,\n",
       " 0.48256425418118604]"
      ]
     },
     "execution_count": 95,
     "metadata": {},
     "output_type": "execute_result"
    }
   ],
   "source": [
    "test_proba"
   ]
  },
  {
   "cell_type": "code",
   "execution_count": 96,
   "metadata": {
    "hidden": true
   },
   "outputs": [
    {
     "data": {
      "text/plain": [
       "4.909210327846378"
      ]
     },
     "execution_count": 96,
     "metadata": {},
     "output_type": "execute_result"
    }
   ],
   "source": [
    "np.max(train_X)"
   ]
  },
  {
   "cell_type": "code",
   "execution_count": 97,
   "metadata": {
    "hidden": true
   },
   "outputs": [],
   "source": [
    "no_label_X = np.random.multivariate_normal(np.random.rand((n_total_feats)), \n",
    "                                   cov=np.eye(n_total_feats),\n",
    "                                   size=n_test)"
   ]
  },
  {
   "cell_type": "code",
   "execution_count": 98,
   "metadata": {
    "hidden": true
   },
   "outputs": [],
   "source": [
    "test_proba = []\n",
    "test_pred = []\n",
    "for pipe_idx, pipe in enumerate(pipelines):\n",
    "    pred_prob = pipe.predict_proba(no_label_X)\n",
    "    #print(pred_prob.shape)\n",
    "    #print(pred_prob[:5,:])\n",
    "    test_proba.append(np.mean(pred_prob[:, 1]))\n",
    "    test_pred.append(np.sum(pipe.predict(no_label_X)))"
   ]
  },
  {
   "cell_type": "code",
   "execution_count": 99,
   "metadata": {
    "hidden": true
   },
   "outputs": [
    {
     "data": {
      "text/plain": [
       "[0.7645429064670288,\n",
       " 0.6172751203051686,\n",
       " 0.5292817102255765,\n",
       " 0.48139547610391137,\n",
       " 0.46417871226913066,\n",
       " 0.46438994302869885,\n",
       " 0.4527785993475524,\n",
       " 0.47026772159779057]"
      ]
     },
     "execution_count": 99,
     "metadata": {},
     "output_type": "execute_result"
    }
   ],
   "source": [
    "test_proba"
   ]
  },
  {
   "cell_type": "code",
   "execution_count": 100,
   "metadata": {
    "hidden": true
   },
   "outputs": [
    {
     "data": {
      "text/plain": [
       "[468.0, 314.0, 265.0, 241.0, 232.0, 229.0, 223.0, 229.0]"
      ]
     },
     "execution_count": 100,
     "metadata": {},
     "output_type": "execute_result"
    }
   ],
   "source": [
    "test_pred"
   ]
  },
  {
   "cell_type": "code",
   "execution_count": 101,
   "metadata": {
    "hidden": true
   },
   "outputs": [
    {
     "name": "stdout",
     "output_type": "stream",
     "text": [
      "20\n",
      "210\n",
      "1350\n",
      "6195\n",
      "21699\n",
      "60459\n",
      "137979\n",
      "263949\n"
     ]
    }
   ],
   "source": [
    "for pipe in pipelines:\n",
    "    print(pipe['polynomial_features'].n_output_features_)"
   ]
  },
  {
   "cell_type": "markdown",
   "metadata": {
    "heading_collapsed": true,
    "hidden": true
   },
   "source": [
    "#### Decision Tree"
   ]
  },
  {
   "cell_type": "code",
   "execution_count": 285,
   "metadata": {
    "hidden": true
   },
   "outputs": [],
   "source": [
    "# features\n",
    "n_informative = 10\n",
    "n_redundant = 0\n",
    "n_total_feats = 1000\n",
    "\n",
    "# samples\n",
    "n_train = 1000\n",
    "n_test = 500\n",
    "\n",
    "# class parameters\n",
    "n_classes = 2\n",
    "weights = None#[.2, .8] # defaults to 50/50 split\n",
    "\n",
    "# output params\n",
    "shuffle = True\n",
    "random_state = 0\n",
    "class_sep = 1\n",
    "n_clusters_per_class = 1\n",
    "\n",
    "X, y = make_classification(\n",
    "                            n_samples = n_train + n_test,\n",
    "                            n_features = n_total_feats,\n",
    "                            n_informative = n_informative,\n",
    "                            n_redundant = n_redundant,\n",
    "                            n_classes = n_classes,\n",
    "                            weights = weights,\n",
    "                            shuffle = shuffle,\n",
    "                            random_state = random_state,\n",
    "                            class_sep = class_sep)\n",
    "\n",
    "end_idx_0 = n_train // 2\n",
    "start_idx_1 = (n_train // 2) + (n_test // 2)\n",
    "end_idx_1 = n_train + (n_test // 2)\n",
    "train_data = np.append(X[:end_idx_0, :], X[start_idx_1:end_idx_1, :], 0)\n",
    "train_data = np.c_[train_data, np.append(y[:end_idx_0], y[start_idx_1:end_idx_1])]\n",
    "\n",
    "test_data = np.append(X[end_idx_0:start_idx_1, :], X[end_idx_1:, :], 0)\n",
    "test_data = np.c_[test_data, np.append(y[end_idx_0:start_idx_1], y[end_idx_1:])]\n",
    "\n",
    "class_train_X = train_data[:, :-1]\n",
    "class_train_y = train_data[:, -1]\n",
    "\n",
    "class_test_X = test_data[:, :-1]\n",
    "class_test_y = test_data[:, -1]"
   ]
  },
  {
   "cell_type": "code",
   "execution_count": 286,
   "metadata": {
    "hidden": true
   },
   "outputs": [
    {
     "name": "stdout",
     "output_type": "stream",
     "text": [
      "[0.598, 0.684, 0.692, 0.724, 0.722, 0.72, 0.698, 0.702, 0.716, 0.678, 0.712, 0.69, 0.684, 0.696, 0.682, 0.694, 0.692, 0.654, 0.696, 0.684]\n"
     ]
    }
   ],
   "source": [
    "depths = [x for x in range(1,20)] + [None]\n",
    "class_trees = []\n",
    "class_train_acc = []\n",
    "class_test_acc = []\n",
    "\n",
    "for depth in depths:\n",
    "    class_tree = DecisionTreeClassifier(max_depth=depth)\n",
    "    class_tree.fit(class_train_X.copy(), class_train_y.copy())\n",
    "    class_trees.append(class_tree)\n",
    "    \n",
    "    class_train_acc.append(accuracy_score(class_train_y, class_tree.predict(class_train_X)))\n",
    "    #class_test_proba.append(np.mean(class_tree.predict_proba(class_test_X)[:, 0]))\n",
    "    class_test_acc.append(accuracy_score(class_test_y, class_tree.predict(class_test_X)))\n",
    "    \n",
    "print(class_test_acc)"
   ]
  },
  {
   "cell_type": "code",
   "execution_count": 287,
   "metadata": {
    "hidden": true
   },
   "outputs": [
    {
     "data": {
      "text/plain": [
       "[0.643,\n",
       " 0.738,\n",
       " 0.771,\n",
       " 0.833,\n",
       " 0.884,\n",
       " 0.924,\n",
       " 0.952,\n",
       " 0.974,\n",
       " 0.981,\n",
       " 0.991,\n",
       " 0.994,\n",
       " 0.997,\n",
       " 0.998,\n",
       " 0.999,\n",
       " 1.0,\n",
       " 1.0,\n",
       " 1.0,\n",
       " 1.0,\n",
       " 1.0,\n",
       " 1.0]"
      ]
     },
     "execution_count": 287,
     "metadata": {},
     "output_type": "execute_result"
    }
   ],
   "source": [
    "class_train_acc"
   ]
  },
  {
   "cell_type": "markdown",
   "metadata": {
    "heading_collapsed": true
   },
   "source": [
    "### Notes"
   ]
  },
  {
   "cell_type": "markdown",
   "metadata": {
    "hidden": true
   },
   "source": [
    "- generate data from two separate distributions\n",
    "- plots as $p$ increases\n",
    "- train on 50/50 split\n",
    "- plots of underfit, \"fit,\" and overfit predictions as the distribution of out-of-sample data goes from 0 to 1 in terms of labels\n",
    "- use `make_classification`\n",
    "- use pipeline of polynomial features\n",
    "- TODO do the out-of-sample people come from a different data distribution?"
   ]
  },
  {
   "cell_type": "markdown",
   "metadata": {},
   "source": [
    "### Functions"
   ]
  },
  {
   "cell_type": "code",
   "execution_count": 48,
   "metadata": {},
   "outputs": [],
   "source": [
    "def make_class_data(n_train, n_test, **kwargs):\n",
    "    \"\"\"Creates synthetic dataset for classification.\n",
    "    \n",
    "    Mainly a wrapper for sklearn.datasets.make_classification.\n",
    "    \n",
    "    Args:\n",
    "        n_train (int): number of training samples\n",
    "        n_test (int): number of testing samples\n",
    "    \n",
    "    Returns:\n",
    "        \n",
    "    \"\"\"\n",
    "    n_samples = n_train + n_test\n",
    "    \n",
    "    X, y = make_classification(n_samples = n_samples, **kwargs)\n",
    "\n",
    "def simulate_no_label_X(pipelines, n_feats, n_trials, n_samples):\n",
    "    \"\"\"Runs an n_trials simulation the given pipeline models on unlabeled, randomly drawn X.\n",
    "    \n",
    "    Features are sampled from a multivariate Gaussian with random [0,1] means and unit variance.\n",
    "    \n",
    "    Args:\n",
    "        pipelines (list): list of sklearn.pipeline.Pipelines with trained models\n",
    "        n_feats (int): the number of features for the Xs\n",
    "        n_trials (int): number of trials to run.\n",
    "        n_samples (int): number of samples to draw per run.\n",
    "        \n",
    "    Returns:\n",
    "        (list, list): list of mean probabilities predicting label 1, list of corresponding std dev\n",
    "    \"\"\"\n",
    "    # n_trials by n_models\n",
    "    #stds = np.zeros((n_trials, len(pipelines)))\n",
    "    pred_probs = np.zeros((n_trials, len(pipelines)))\n",
    "    \n",
    "    for trial in range(n_trials):\n",
    "        no_label_X = np.random.multivariate_normal(np.random.rand((n_feats)), \n",
    "                                           cov=np.eye(n_feats),\n",
    "                                           size=n_samples)\n",
    "        \n",
    "        for pipe_idx, pipe in enumerate(pipelines):\n",
    "            pred_prob = np.mean(pipe.predict_proba(no_label_X)[:, 1])\n",
    "            pred_probs[trial, pipe_idx] = pred_prob\n",
    "        \n",
    "        print(\"trial {} complete\".format(trial))\n",
    "    mean_probs = np.mean(pred_probs, axis=0)\n",
    "    std_probs = np.std(pred_probs, axis=0)\n",
    "    assert len(pipelines) == len(mean_probs)\n",
    "    assert len(pipelines) == len(std_probs)\n",
    "    \n",
    "    return pred_probs, mean_probs, std_probs"
   ]
  },
  {
   "cell_type": "code",
   "execution_count": 102,
   "metadata": {
    "collapsed": true
   },
   "outputs": [
    {
     "name": "stdout",
     "output_type": "stream",
     "text": [
      "trial 0 complete\n",
      "trial 1 complete\n",
      "trial 2 complete\n",
      "trial 3 complete\n",
      "trial 4 complete\n",
      "trial 5 complete\n",
      "trial 6 complete\n",
      "trial 7 complete\n",
      "trial 8 complete\n",
      "trial 9 complete\n",
      "trial 10 complete\n",
      "trial 11 complete\n",
      "trial 12 complete\n",
      "trial 13 complete\n",
      "trial 14 complete\n",
      "trial 15 complete\n",
      "trial 16 complete\n",
      "trial 17 complete\n",
      "trial 18 complete\n",
      "trial 19 complete\n",
      "trial 20 complete\n",
      "trial 21 complete\n",
      "trial 22 complete\n",
      "trial 23 complete\n",
      "trial 24 complete\n",
      "trial 25 complete\n",
      "trial 26 complete\n",
      "trial 27 complete\n",
      "trial 28 complete\n",
      "trial 29 complete\n",
      "trial 30 complete\n",
      "trial 31 complete\n",
      "trial 32 complete\n",
      "trial 33 complete\n",
      "trial 34 complete\n",
      "trial 35 complete\n",
      "trial 36 complete\n",
      "trial 37 complete\n",
      "trial 38 complete\n",
      "trial 39 complete\n",
      "trial 40 complete\n",
      "trial 41 complete\n",
      "trial 42 complete\n",
      "trial 43 complete\n",
      "trial 44 complete\n",
      "trial 45 complete\n",
      "trial 46 complete\n",
      "trial 47 complete\n",
      "trial 48 complete\n",
      "trial 49 complete\n"
     ]
    }
   ],
   "source": [
    "n_trials = 50\n",
    "n_samples = 500\n",
    "pred_probs, mean_p, std_p = simulate_no_label_X(pipelines, \n",
    "                                                n_total_feats, \n",
    "                                                n_trials, \n",
    "                                                n_samples)"
   ]
  },
  {
   "cell_type": "markdown",
   "metadata": {},
   "source": [
    "### Plots"
   ]
  },
  {
   "cell_type": "code",
   "execution_count": 105,
   "metadata": {
    "scrolled": true
   },
   "outputs": [
    {
     "data": {
      "image/png": "[encoded data removed]",
      "text/plain": [
       "<Figure size 432x288 with 1 Axes>"
      ]
     },
     "metadata": {
      "needs_background": "light"
     },
     "output_type": "display_data"
    }
   ],
   "source": [
    "x = np.arange(1,9)\n",
    "\n",
    "#sns.pointplot(x, mean_p)\n",
    "plt.errorbar(x, mean_p, yerr=std_p, #/ np.sqrt(n_trials), \n",
    "             capsize=2, label=\"mean unlabelled prob (SD)\")\n",
    "plt.plot(x, train_acc, label=\"training accuracy\")\n",
    "plt.plot(x, test_acc, label=\"test accuracy\")\n",
    "plt.ylabel(\"prob\")\n",
    "plt.xlabel(\"polynomial feature degree\")\n",
    "plt.axhline(y=0.5, ls='--', color='grey')\n",
    "plt.legend(loc='upper right')\n",
    "plt.title(\"Unlabelled Overfitting Classification\")\n",
    "#plt.savefig(\"../figures/overfit_classification_1000.png\", dpi=300)"
   ]
  },
  {
   "cell_type": "markdown",
   "metadata": {},
   "source": [
    "- 4 informative features, 20 total\n",
    "- $n=1000$ training set size (50/50 split)\n",
    "- $n=500$ test set size"
   ]
  },
  {
   "cell_type": "markdown",
   "metadata": {},
   "source": [
    "## Regression"
   ]
  },
  {
   "cell_type": "markdown",
   "metadata": {},
   "source": [
    "### Sandbox"
   ]
  },
  {
   "cell_type": "markdown",
   "metadata": {
    "heading_collapsed": true
   },
   "source": [
    "#### Decision Tree"
   ]
  },
  {
   "cell_type": "code",
   "execution_count": 354,
   "metadata": {
    "hidden": true
   },
   "outputs": [],
   "source": [
    "random_state = 2\n",
    "effective_rank = 20\n",
    "n_informative = 100\n",
    "n_features = 1000\n",
    "n_train = 100\n",
    "n_test = 500\n",
    "tail_strength = 0.5\n",
    "n_samples = n_train + n_test\n",
    "noise = 0\n",
    "reg_X, reg_y = make_regression(n_samples=n_samples,\n",
    "                               n_features=n_features,\n",
    "                               n_informative=n_informative,\n",
    "                               effective_rank=effective_rank,\n",
    "                               tail_strength=tail_strength,\n",
    "                               noise=noise,\n",
    "                               random_state=random_state)\n",
    "\n",
    "reg_train_X = reg_X[:n_train, :]\n",
    "reg_train_y= reg_y[:n_train]\n",
    "\n",
    "reg_test_X = reg_X[n_train:, :]\n",
    "reg_test_y = reg_y[n_train:]"
   ]
  },
  {
   "cell_type": "code",
   "execution_count": 355,
   "metadata": {
    "hidden": true
   },
   "outputs": [
    {
     "name": "stdout",
     "output_type": "stream",
     "text": [
      "[21.11094864635704, 22.966908354189123, 26.52979591576371, 26.54713604681531, 28.16707979670335, 30.107564065001544, 30.915650205034083, 31.852926789370684, 30.81455752305023, 30.19268390508701, 31.577784351217094, 29.758263888178053, 36.17631855698449, 32.12861953055407, 34.93895006067893, 30.641698904474552, 30.28661764372878, 31.147869486970453, 33.52100923554806, 32.0946558619357]\n"
     ]
    }
   ],
   "source": [
    "depths = [x for x in range(1,20)] + [None]\n",
    "reg_trees = []\n",
    "reg_train_mse = []\n",
    "reg_test_mse = []\n",
    "\n",
    "for depth in depths:\n",
    "    reg_tree = DecisionTreeRegressor(max_depth=depth)\n",
    "    reg_tree.fit(reg_train_X.copy(), reg_train_y.copy())\n",
    "    reg_trees.append(reg_tree)\n",
    "    \n",
    "    reg_train_mse.append(mean_squared_error(reg_train_y, reg_tree.predict(reg_train_X)))\n",
    "    #reg_test_proba.append(np.mean(reg_tree.predict_proba(reg_test_X)[:, 0]))\n",
    "    reg_test_mse.append(mean_squared_error(reg_test_y, reg_tree.predict(reg_test_X)))\n",
    "    \n",
    "print(reg_test_mse)"
   ]
  },
  {
   "cell_type": "code",
   "execution_count": 356,
   "metadata": {
    "hidden": true
   },
   "outputs": [
    {
     "data": {
      "text/plain": [
       "[16.71679222608997,\n",
       " 12.614358786361755,\n",
       " 8.22855580288373,\n",
       " 4.7765937515229675,\n",
       " 2.2624283049318468,\n",
       " 0.8796912532669807,\n",
       " 0.25030321726066285,\n",
       " 0.05588195834413568,\n",
       " 0.00614316180960854,\n",
       " 0.0006853136448682055,\n",
       " 1.5275787118480288e-06,\n",
       " 0.0,\n",
       " 0.0,\n",
       " 0.0,\n",
       " 0.0,\n",
       " 0.0,\n",
       " 0.0,\n",
       " 0.0,\n",
       " 0.0,\n",
       " 0.0]"
      ]
     },
     "execution_count": 356,
     "metadata": {},
     "output_type": "execute_result"
    }
   ],
   "source": [
    "reg_train_mse"
   ]
  },
  {
   "cell_type": "code",
   "execution_count": 357,
   "metadata": {
    "hidden": true
   },
   "outputs": [],
   "source": [
    "no_label_X = np.random.multivariate_normal(np.random.rand((n_features)), \n",
    "                                   cov=np.eye(n_features),\n",
    "                                   size=n_test)"
   ]
  },
  {
   "cell_type": "code",
   "execution_count": 358,
   "metadata": {
    "hidden": true
   },
   "outputs": [],
   "source": [
    "reg_no_label_std = []\n",
    "reg_no_label_mean = []\n",
    "for tree_idx, tree in enumerate(reg_trees):\n",
    "    predictions = tree.predict(no_label_X)\n",
    "    reg_no_label_mean.append(np.mean(predictions))\n",
    "    reg_no_label_std.append(np.std(predictions))"
   ]
  },
  {
   "cell_type": "code",
   "execution_count": 360,
   "metadata": {
    "hidden": true
   },
   "outputs": [
    {
     "data": {
      "text/plain": [
       "[1.9509496781845381,\n",
       " 3.1337077007340626,\n",
       " 5.734477688862062,\n",
       " 6.2755579078981345,\n",
       " 6.023955955721974,\n",
       " 7.215375499376987,\n",
       " 5.100761892740427,\n",
       " 6.802205612973915,\n",
       " 5.091478660992177,\n",
       " 5.656430698781644,\n",
       " 5.983778308492219,\n",
       " 5.112086918771842,\n",
       " 6.788058434189682,\n",
       " 6.523363808121618,\n",
       " 5.861638468312976,\n",
       " 5.5743684148997685,\n",
       " 6.872277900693816,\n",
       " 6.311726116168101,\n",
       " 6.3245188503367835,\n",
       " 6.579655641885196]"
      ]
     },
     "execution_count": 360,
     "metadata": {},
     "output_type": "execute_result"
    }
   ],
   "source": [
    "reg_no_label_std"
   ]
  },
  {
   "cell_type": "markdown",
   "metadata": {
    "heading_collapsed": true
   },
   "source": [
    "#### SVM"
   ]
  },
  {
   "cell_type": "code",
   "execution_count": 361,
   "metadata": {
    "hidden": true
   },
   "outputs": [
    {
     "name": "stdout",
     "output_type": "stream",
     "text": [
      "[21.305227047744484, 16.63305739188103, 11.726403477674518, 14.474850517205, 17.293097268204566, 19.38279713733938, 20.59297411197077, 21.170427279473284, 21.413481205946884, 21.509385651197604, 21.54606722711453, 21.559921809724365]\n"
     ]
    }
   ],
   "source": [
    "from sklearn import svm\n",
    "\n",
    "gammas = [0.001, 0.1] + list(np.arange(1,100,10))\n",
    "reg_svms = []\n",
    "reg_train_mse = []\n",
    "reg_test_mse = []\n",
    "\n",
    "for gamma in gammas:\n",
    "    reg_svm = svm.SVR(gamma=gamma, C=100)\n",
    "    reg_svm.fit(reg_train_X.copy(), reg_train_y.copy())\n",
    "    reg_svms.append(reg_svm)\n",
    "    \n",
    "    reg_train_mse.append(mean_squared_error(reg_train_y, reg_svm.predict(reg_train_X)))\n",
    "    #reg_test_proba.append(np.mean(reg_svm.predict_proba(reg_test_X)[:, 0]))\n",
    "    reg_test_mse.append(mean_squared_error(reg_test_y, reg_svm.predict(reg_test_X)))\n",
    "    \n",
    "print(reg_test_mse)"
   ]
  },
  {
   "cell_type": "code",
   "execution_count": 362,
   "metadata": {
    "hidden": true
   },
   "outputs": [
    {
     "data": {
      "text/plain": [
       "[20.42437748567856,\n",
       " 10.128031517102965,\n",
       " 0.18042923799223443,\n",
       " 0.010002280745260978,\n",
       " 0.009812607223812888,\n",
       " 0.009879435652798715,\n",
       " 0.00980300591708747,\n",
       " 0.009944456547221958,\n",
       " 0.009897236344222151,\n",
       " 0.009907165904174078,\n",
       " 0.009901554390045907,\n",
       " 0.009900731299460142]"
      ]
     },
     "execution_count": 362,
     "metadata": {},
     "output_type": "execute_result"
    }
   ],
   "source": [
    "reg_train_mse"
   ]
  },
  {
   "cell_type": "code",
   "execution_count": 363,
   "metadata": {
    "hidden": true
   },
   "outputs": [],
   "source": [
    "no_label_X = np.random.multivariate_normal(np.random.rand((n_features)), \n",
    "                                   cov=np.eye(n_features),\n",
    "                                   size=n_test)"
   ]
  },
  {
   "cell_type": "code",
   "execution_count": 364,
   "metadata": {
    "hidden": true
   },
   "outputs": [],
   "source": [
    "reg_no_label_std = []\n",
    "reg_no_label_mean = []\n",
    "for svm_idx, svm in enumerate(reg_svms):\n",
    "    predictions = svm.predict(no_label_X)\n",
    "    reg_no_label_mean.append(np.mean(predictions))\n",
    "    reg_no_label_std.append(np.std(predictions))"
   ]
  },
  {
   "cell_type": "code",
   "execution_count": 365,
   "metadata": {
    "hidden": true
   },
   "outputs": [
    {
     "data": {
      "text/plain": [
       "[0.16452271682992914,\n",
       " 4.440892098500626e-16,\n",
       " 1.7763568394002505e-15,\n",
       " 0.0,\n",
       " 0.0,\n",
       " 0.0,\n",
       " 1.1102230246251565e-16,\n",
       " 0.0,\n",
       " 5.551115123125783e-17,\n",
       " 5.551115123125783e-17,\n",
       " 5.551115123125783e-17,\n",
       " 0.0]"
      ]
     },
     "execution_count": 365,
     "metadata": {},
     "output_type": "execute_result"
    }
   ],
   "source": [
    "reg_no_label_std"
   ]
  },
  {
   "cell_type": "markdown",
   "metadata": {
    "heading_collapsed": true
   },
   "source": [
    "#### Polynomial regression"
   ]
  },
  {
   "cell_type": "code",
   "execution_count": 251,
   "metadata": {
    "hidden": true,
    "scrolled": true
   },
   "outputs": [
    {
     "name": "stdout",
     "output_type": "stream",
     "text": [
      "1\n"
     ]
    },
    {
     "ename": "KeyboardInterrupt",
     "evalue": "",
     "output_type": "error",
     "traceback": [
      "\u001b[0;31m---------------------------------------------------------------------------\u001b[0m",
      "\u001b[0;31mKeyboardInterrupt\u001b[0m                         Traceback (most recent call last)",
      "\u001b[0;32m<ipython-input-251-392e477ac0f9>\u001b[0m in \u001b[0;36m<module>\u001b[0;34m\u001b[0m\n\u001b[1;32m     14\u001b[0m                            (\"linear_regression\", reg_model)])\n\u001b[1;32m     15\u001b[0m \u001b[0;34m\u001b[0m\u001b[0m\n\u001b[0;32m---> 16\u001b[0;31m     \u001b[0mreg_pipeline\u001b[0m\u001b[0;34m.\u001b[0m\u001b[0mfit\u001b[0m\u001b[0;34m(\u001b[0m\u001b[0mreg_train_X\u001b[0m\u001b[0;34m.\u001b[0m\u001b[0mcopy\u001b[0m\u001b[0;34m(\u001b[0m\u001b[0;34m)\u001b[0m\u001b[0;34m,\u001b[0m \u001b[0mreg_train_y\u001b[0m\u001b[0;34m.\u001b[0m\u001b[0mcopy\u001b[0m\u001b[0;34m(\u001b[0m\u001b[0;34m)\u001b[0m\u001b[0;34m)\u001b[0m\u001b[0;34m\u001b[0m\u001b[0;34m\u001b[0m\u001b[0m\n\u001b[0m\u001b[1;32m     17\u001b[0m \u001b[0;34m\u001b[0m\u001b[0m\n\u001b[1;32m     18\u001b[0m     \u001b[0mreg_pipelines\u001b[0m\u001b[0;34m.\u001b[0m\u001b[0mappend\u001b[0m\u001b[0;34m(\u001b[0m\u001b[0mreg_pipeline\u001b[0m\u001b[0;34m)\u001b[0m\u001b[0;34m\u001b[0m\u001b[0;34m\u001b[0m\u001b[0m\n",
      "\u001b[0;32m~/.conda/envs/py37/lib/python3.7/site-packages/sklearn/pipeline.py\u001b[0m in \u001b[0;36mfit\u001b[0;34m(self, X, y, **fit_params)\u001b[0m\n\u001b[1;32m    354\u001b[0m                                  self._log_message(len(self.steps) - 1)):\n\u001b[1;32m    355\u001b[0m             \u001b[0;32mif\u001b[0m \u001b[0mself\u001b[0m\u001b[0;34m.\u001b[0m\u001b[0m_final_estimator\u001b[0m \u001b[0;34m!=\u001b[0m \u001b[0;34m'passthrough'\u001b[0m\u001b[0;34m:\u001b[0m\u001b[0;34m\u001b[0m\u001b[0;34m\u001b[0m\u001b[0m\n\u001b[0;32m--> 356\u001b[0;31m                 \u001b[0mself\u001b[0m\u001b[0;34m.\u001b[0m\u001b[0m_final_estimator\u001b[0m\u001b[0;34m.\u001b[0m\u001b[0mfit\u001b[0m\u001b[0;34m(\u001b[0m\u001b[0mXt\u001b[0m\u001b[0;34m,\u001b[0m \u001b[0my\u001b[0m\u001b[0;34m,\u001b[0m \u001b[0;34m**\u001b[0m\u001b[0mfit_params\u001b[0m\u001b[0;34m)\u001b[0m\u001b[0;34m\u001b[0m\u001b[0;34m\u001b[0m\u001b[0m\n\u001b[0m\u001b[1;32m    357\u001b[0m         \u001b[0;32mreturn\u001b[0m \u001b[0mself\u001b[0m\u001b[0;34m\u001b[0m\u001b[0;34m\u001b[0m\u001b[0m\n\u001b[1;32m    358\u001b[0m \u001b[0;34m\u001b[0m\u001b[0m\n",
      "\u001b[0;32m~/.conda/envs/py37/lib/python3.7/site-packages/sklearn/linear_model/base.py\u001b[0m in \u001b[0;36mfit\u001b[0;34m(self, X, y, sample_weight)\u001b[0m\n\u001b[1;32m    469\u001b[0m             \u001b[0mX\u001b[0m\u001b[0;34m,\u001b[0m \u001b[0my\u001b[0m\u001b[0;34m,\u001b[0m \u001b[0mfit_intercept\u001b[0m\u001b[0;34m=\u001b[0m\u001b[0mself\u001b[0m\u001b[0;34m.\u001b[0m\u001b[0mfit_intercept\u001b[0m\u001b[0;34m,\u001b[0m \u001b[0mnormalize\u001b[0m\u001b[0;34m=\u001b[0m\u001b[0mself\u001b[0m\u001b[0;34m.\u001b[0m\u001b[0mnormalize\u001b[0m\u001b[0;34m,\u001b[0m\u001b[0;34m\u001b[0m\u001b[0;34m\u001b[0m\u001b[0m\n\u001b[1;32m    470\u001b[0m             \u001b[0mcopy\u001b[0m\u001b[0;34m=\u001b[0m\u001b[0mself\u001b[0m\u001b[0;34m.\u001b[0m\u001b[0mcopy_X\u001b[0m\u001b[0;34m,\u001b[0m \u001b[0msample_weight\u001b[0m\u001b[0;34m=\u001b[0m\u001b[0msample_weight\u001b[0m\u001b[0;34m,\u001b[0m\u001b[0;34m\u001b[0m\u001b[0;34m\u001b[0m\u001b[0m\n\u001b[0;32m--> 471\u001b[0;31m             return_mean=True)\n\u001b[0m\u001b[1;32m    472\u001b[0m \u001b[0;34m\u001b[0m\u001b[0m\n\u001b[1;32m    473\u001b[0m         \u001b[0;32mif\u001b[0m \u001b[0msample_weight\u001b[0m \u001b[0;32mis\u001b[0m \u001b[0;32mnot\u001b[0m \u001b[0;32mNone\u001b[0m\u001b[0;34m:\u001b[0m\u001b[0;34m\u001b[0m\u001b[0;34m\u001b[0m\u001b[0m\n",
      "\u001b[0;32m~/.conda/envs/py37/lib/python3.7/site-packages/sklearn/linear_model/base.py\u001b[0m in \u001b[0;36m_preprocess_data\u001b[0;34m(X, y, fit_intercept, normalize, copy, sample_weight, return_mean, check_input)\u001b[0m\n\u001b[1;32m    155\u001b[0m \u001b[0;34m\u001b[0m\u001b[0m\n\u001b[1;32m    156\u001b[0m         \u001b[0;32melse\u001b[0m\u001b[0;34m:\u001b[0m\u001b[0;34m\u001b[0m\u001b[0;34m\u001b[0m\u001b[0m\n\u001b[0;32m--> 157\u001b[0;31m             \u001b[0mX_offset\u001b[0m \u001b[0;34m=\u001b[0m \u001b[0mnp\u001b[0m\u001b[0;34m.\u001b[0m\u001b[0maverage\u001b[0m\u001b[0;34m(\u001b[0m\u001b[0mX\u001b[0m\u001b[0;34m,\u001b[0m \u001b[0maxis\u001b[0m\u001b[0;34m=\u001b[0m\u001b[0;36m0\u001b[0m\u001b[0;34m,\u001b[0m \u001b[0mweights\u001b[0m\u001b[0;34m=\u001b[0m\u001b[0msample_weight\u001b[0m\u001b[0;34m)\u001b[0m\u001b[0;34m\u001b[0m\u001b[0;34m\u001b[0m\u001b[0m\n\u001b[0m\u001b[1;32m    158\u001b[0m             \u001b[0mX\u001b[0m \u001b[0;34m-=\u001b[0m \u001b[0mX_offset\u001b[0m\u001b[0;34m\u001b[0m\u001b[0;34m\u001b[0m\u001b[0m\n\u001b[1;32m    159\u001b[0m             \u001b[0;32mif\u001b[0m \u001b[0mnormalize\u001b[0m\u001b[0;34m:\u001b[0m\u001b[0;34m\u001b[0m\u001b[0;34m\u001b[0m\u001b[0m\n",
      "\u001b[0;32m~/.conda/envs/py37/lib/python3.7/site-packages/numpy/lib/function_base.py\u001b[0m in \u001b[0;36maverage\u001b[0;34m(a, axis, weights, returned)\u001b[0m\n\u001b[1;32m    390\u001b[0m \u001b[0;34m\u001b[0m\u001b[0m\n\u001b[1;32m    391\u001b[0m     \u001b[0;32mif\u001b[0m \u001b[0mweights\u001b[0m \u001b[0;32mis\u001b[0m \u001b[0;32mNone\u001b[0m\u001b[0;34m:\u001b[0m\u001b[0;34m\u001b[0m\u001b[0;34m\u001b[0m\u001b[0m\n\u001b[0;32m--> 392\u001b[0;31m         \u001b[0mavg\u001b[0m \u001b[0;34m=\u001b[0m \u001b[0ma\u001b[0m\u001b[0;34m.\u001b[0m\u001b[0mmean\u001b[0m\u001b[0;34m(\u001b[0m\u001b[0maxis\u001b[0m\u001b[0;34m)\u001b[0m\u001b[0;34m\u001b[0m\u001b[0;34m\u001b[0m\u001b[0m\n\u001b[0m\u001b[1;32m    393\u001b[0m         \u001b[0mscl\u001b[0m \u001b[0;34m=\u001b[0m \u001b[0mavg\u001b[0m\u001b[0;34m.\u001b[0m\u001b[0mdtype\u001b[0m\u001b[0;34m.\u001b[0m\u001b[0mtype\u001b[0m\u001b[0;34m(\u001b[0m\u001b[0ma\u001b[0m\u001b[0;34m.\u001b[0m\u001b[0msize\u001b[0m\u001b[0;34m/\u001b[0m\u001b[0mavg\u001b[0m\u001b[0;34m.\u001b[0m\u001b[0msize\u001b[0m\u001b[0;34m)\u001b[0m\u001b[0;34m\u001b[0m\u001b[0;34m\u001b[0m\u001b[0m\n\u001b[1;32m    394\u001b[0m     \u001b[0;32melse\u001b[0m\u001b[0;34m:\u001b[0m\u001b[0;34m\u001b[0m\u001b[0;34m\u001b[0m\u001b[0m\n",
      "\u001b[0;32m~/.conda/envs/py37/lib/python3.7/site-packages/numpy/core/_methods.py\u001b[0m in \u001b[0;36m_mean\u001b[0;34m(a, axis, dtype, out, keepdims)\u001b[0m\n\u001b[1;32m     73\u001b[0m             \u001b[0mis_float16_result\u001b[0m \u001b[0;34m=\u001b[0m \u001b[0;32mTrue\u001b[0m\u001b[0;34m\u001b[0m\u001b[0;34m\u001b[0m\u001b[0m\n\u001b[1;32m     74\u001b[0m \u001b[0;34m\u001b[0m\u001b[0m\n\u001b[0;32m---> 75\u001b[0;31m     \u001b[0mret\u001b[0m \u001b[0;34m=\u001b[0m \u001b[0mumr_sum\u001b[0m\u001b[0;34m(\u001b[0m\u001b[0marr\u001b[0m\u001b[0;34m,\u001b[0m \u001b[0maxis\u001b[0m\u001b[0;34m,\u001b[0m \u001b[0mdtype\u001b[0m\u001b[0;34m,\u001b[0m \u001b[0mout\u001b[0m\u001b[0;34m,\u001b[0m \u001b[0mkeepdims\u001b[0m\u001b[0;34m)\u001b[0m\u001b[0;34m\u001b[0m\u001b[0;34m\u001b[0m\u001b[0m\n\u001b[0m\u001b[1;32m     76\u001b[0m     \u001b[0;32mif\u001b[0m \u001b[0misinstance\u001b[0m\u001b[0;34m(\u001b[0m\u001b[0mret\u001b[0m\u001b[0;34m,\u001b[0m \u001b[0mmu\u001b[0m\u001b[0;34m.\u001b[0m\u001b[0mndarray\u001b[0m\u001b[0;34m)\u001b[0m\u001b[0;34m:\u001b[0m\u001b[0;34m\u001b[0m\u001b[0;34m\u001b[0m\u001b[0m\n\u001b[1;32m     77\u001b[0m         ret = um.true_divide(\n",
      "\u001b[0;31mKeyboardInterrupt\u001b[0m: "
     ]
    }
   ],
   "source": [
    "# polynomial regression blows up\n",
    "degrees = np.arange(1,9)\n",
    "\n",
    "reg_train_mse = []\n",
    "reg_test_mse = []\n",
    "reg_pipelines = []\n",
    "for deg in degrees:\n",
    "    poly_features = PolynomialFeatures(degree=deg, \n",
    "                                       include_bias=False,\n",
    "                                       interaction_only=True)\n",
    "    reg_model = LinearRegression(n_jobs=-1,\n",
    "                                normalize=True)\n",
    "    reg_pipeline = Pipeline([(\"polynomial_features\", poly_features),\n",
    "                           (\"linear_regression\", reg_model)])\n",
    "    \n",
    "    reg_pipeline.fit(reg_train_X.copy(), reg_train_y.copy())\n",
    "    \n",
    "    reg_pipelines.append(reg_pipeline)\n",
    "    \n",
    "    reg_train_mse.append(mean_squared_error(reg_train_y, reg_pipeline.predict(reg_train_X)))\n",
    "    #reg_test_proba.append(np.mean(reg_pipeline.predict_proba(reg_test_X)[:, 0]))\n",
    "    reg_test_mse.append(mean_squared_error(reg_test_y, reg_pipeline.predict(reg_test_X)))\n",
    "    print(deg)\n",
    "    \n",
    "print(reg_test_mse)"
   ]
  },
  {
   "cell_type": "code",
   "execution_count": null,
   "metadata": {
    "hidden": true
   },
   "outputs": [],
   "source": [
    "reg_train_mse"
   ]
  },
  {
   "cell_type": "code",
   "execution_count": null,
   "metadata": {
    "hidden": true
   },
   "outputs": [],
   "source": [
    "no_label_X = np.random.multivariate_normal(np.random.rand((n_features)), \n",
    "                                   cov=np.eye(n_features),\n",
    "                                   size=n_test)"
   ]
  },
  {
   "cell_type": "code",
   "execution_count": null,
   "metadata": {
    "hidden": true
   },
   "outputs": [],
   "source": [
    "reg_no_label_std = []\n",
    "reg_no_label_mean = []\n",
    "for pipe_idx, pipe in enumerate(reg_pipelines):\n",
    "    predictions = pipe.predict(no_label_X)\n",
    "    reg_no_label_mean.append(np.mean(predictions))\n",
    "    reg_no_label_std.append(np.std(predictions))"
   ]
  },
  {
   "cell_type": "code",
   "execution_count": 135,
   "metadata": {
    "hidden": true
   },
   "outputs": [
    {
     "data": {
      "text/plain": [
       "[160.45880326838653,\n",
       " 160.45880326838724,\n",
       " 748457.5657334188,\n",
       " 90422989.03923123,\n",
       " 6941111902.688086,\n",
       " 537844988550.5026,\n",
       " 39300345351392.4,\n",
       " 3052402948069559.5]"
      ]
     },
     "execution_count": 135,
     "metadata": {},
     "output_type": "execute_result"
    }
   ],
   "source": [
    "reg_no_label_std"
   ]
  },
  {
   "cell_type": "code",
   "execution_count": 136,
   "metadata": {
    "hidden": true
   },
   "outputs": [
    {
     "data": {
      "text/plain": [
       "[157.1549505500332,\n",
       " 157.1549505500538,\n",
       " -166403.12351055045,\n",
       " -8378021.298976034,\n",
       " -189462058.24636337,\n",
       " -34564497781.94811,\n",
       " -4026424114150.8613,\n",
       " 154756739433710.9]"
      ]
     },
     "execution_count": 136,
     "metadata": {},
     "output_type": "execute_result"
    }
   ],
   "source": [
    "reg_no_label_mean"
   ]
  },
  {
   "cell_type": "markdown",
   "metadata": {},
   "source": [
    "#### Regression"
   ]
  },
  {
   "cell_type": "code",
   "execution_count": 369,
   "metadata": {},
   "outputs": [],
   "source": [
    "def generate_reg_data(n_train, n_test, **kwargs):\n",
    "    n_samples = n_train + n_test\n",
    "    reg_X, reg_y = make_regression(n_samples=n_samples, **kwargs)\n",
    "\n",
    "    reg_train_X = reg_X[:n_train, :]\n",
    "    reg_train_y= reg_y[:n_train]\n",
    "\n",
    "    reg_test_X = reg_X[n_train:, :]\n",
    "    reg_test_y = reg_y[n_train:]\n",
    "\n",
    "    return reg_train_X, reg_train_y, reg_test_X, reg_test_y"
   ]
  },
  {
   "cell_type": "code",
   "execution_count": 402,
   "metadata": {},
   "outputs": [],
   "source": [
    "random_state = 3\n",
    "effective_rank = 20\n",
    "n_informative = 10\n",
    "n_features = 1000\n",
    "n_train = 500\n",
    "n_test = 500\n",
    "tail_strength = 0.5\n",
    "noise = 0\n",
    "\n",
    "\n",
    "reg_train_mse = []\n",
    "reg_test_mse = []\n",
    "reg_models = []\n",
    "reg_no_label_mean = []\n",
    "reg_no_label_std = []\n",
    "feat_sizes = np.arange(200, 2001, 200)\n",
    "for n_features in feat_sizes:\n",
    "    reg_train_X, reg_train_y, reg_test_X, reg_test_y = generate_reg_data(n_train,\n",
    "                                                       n_test,\n",
    "                                                       n_features=n_features,\n",
    "                                                       n_informative=n_informative,\n",
    "                                                       effective_rank=effective_rank,\n",
    "                                                       tail_strength=tail_strength,\n",
    "                                                       noise=noise,\n",
    "                                                       random_state=random_state)\n",
    "    reg_model = LinearRegression(n_jobs=-1)\n",
    "    reg_model.fit(reg_train_X, reg_train_y)\n",
    "    reg_models.append(reg_model)\n",
    "    \n",
    "    reg_train_mse.append(mean_squared_error(reg_train_y, reg_model.predict(reg_train_X)))\n",
    "    reg_test_mse.append(mean_squared_error(reg_test_y, reg_model.predict(reg_test_X)))"
   ]
  },
  {
   "cell_type": "code",
   "execution_count": null,
   "metadata": {},
   "outputs": [],
   "source": [
    "print(reg_test_mse)"
   ]
  },
  {
   "cell_type": "code",
   "execution_count": null,
   "metadata": {},
   "outputs": [],
   "source": [
    "n_trials = 10"
   ]
  },
  {
   "cell_type": "code",
   "execution_count": null,
   "metadata": {},
   "outputs": [],
   "source": [
    "pred_stds = np.zeros((n_trials, len(reg_models)))\n",
    "for trial in range(n_trials):\n",
    "    for model_idx, reg_model in enumerate(reg_models):\n",
    "        n_features = feat_sizes[model_idx]\n",
    "        no_label_X = np.random.multivariate_normal(np.random.rand((n_features)), \n",
    "                                       cov=np.eye(n_features),\n",
    "                                       size=n_test)\n",
    "        predictions = reg_model.predict(no_label_X)\n",
    "        #reg_no_label_mean.append(np.mean(predictions))\n",
    "        pred_stds[trial, model_idx] = np.std(predictions)\n",
    "    print(trial)"
   ]
  },
  {
   "cell_type": "code",
   "execution_count": null,
   "metadata": {},
   "outputs": [],
   "source": [
    "avg_stds = np.mean(pred_stds, axis=0)\n",
    "std_stds = np.std(pred_stds, axis=0)"
   ]
  },
  {
   "cell_type": "code",
   "execution_count": null,
   "metadata": {},
   "outputs": [],
   "source": [
    "avg_stds"
   ]
  },
  {
   "cell_type": "code",
   "execution_count": null,
   "metadata": {},
   "outputs": [],
   "source": [
    "std_stds"
   ]
  },
  {
   "cell_type": "markdown",
   "metadata": {
    "heading_collapsed": true
   },
   "source": [
    "### Notes"
   ]
  },
  {
   "cell_type": "markdown",
   "metadata": {
    "hidden": true
   },
   "source": [
    "- how to properly adjust effective rank parameter?"
   ]
  },
  {
   "cell_type": "markdown",
   "metadata": {},
   "source": [
    "### Plots"
   ]
  },
  {
   "cell_type": "code",
   "execution_count": 405,
   "metadata": {},
   "outputs": [
    {
     "data": {
      "image/png": "[encoded data removed]",
      "text/plain": [
       "<Figure size 432x288 with 1 Axes>"
      ]
     },
     "metadata": {
      "needs_background": "light"
     },
     "output_type": "display_data"
    }
   ],
   "source": [
    "plt.errorbar(feat_sizes, avg_stds, yerr=std_stds)\n",
    "plt.ylabel(\"unlabelled prediction SD\")\n",
    "plt.xlabel(\"# features\")\n",
    "plt.title(\"Unlabelled Overfit Regression\")\n",
    "plt.show()"
   ]
  },
  {
   "cell_type": "code",
   "execution_count": null,
   "metadata": {},
   "outputs": [],
   "source": []
  }
 ],
 "metadata": {
  "hide_input": false,
  "kernelspec": {
   "display_name": "Python 3",
   "language": "python",
   "name": "python3"
  },
  "language_info": {
   "codemirror_mode": {
    "name": "ipython",
    "version": 3
   },
   "file_extension": ".py",
   "mimetype": "text/x-python",
   "name": "python",
   "nbconvert_exporter": "python",
   "pygments_lexer": "ipython3",
   "version": "3.7.3"
  }
 },
 "nbformat": 4,
 "nbformat_minor": 2
}
